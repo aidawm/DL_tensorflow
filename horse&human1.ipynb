{
  "nbformat": 4,
  "nbformat_minor": 0,
  "metadata": {
    "colab": {
      "name": "horse&human1.ipynb",
      "provenance": [],
      "authorship_tag": "ABX9TyM2XPKrIMuJgw6JCPGGfFfN",
      "include_colab_link": true
    },
    "kernelspec": {
      "name": "python3",
      "display_name": "Python 3"
    },
    "language_info": {
      "name": "python"
    }
  },
  "cells": [
    {
      "cell_type": "markdown",
      "metadata": {
        "id": "view-in-github",
        "colab_type": "text"
      },
      "source": [
        "<a href=\"https://colab.research.google.com/github/aidawm/new_repo/blob/main/horse%26human1.ipynb\" target=\"_parent\"><img src=\"https://colab.research.google.com/assets/colab-badge.svg\" alt=\"Open In Colab\"/></a>"
      ]
    },
    {
      "cell_type": "code",
      "metadata": {
        "colab": {
          "base_uri": "https://localhost:8080/"
        },
        "id": "E54uCN5TWseC",
        "outputId": "acdad8ad-3803-4d61-e69d-0e30ce6e5962"
      },
      "source": [
        "!wget --no-check-certificate \\\n",
        "    https://storage.googleapis.com/laurencemoroney-blog.appspot.com/horse-or-human.zip \\\n",
        "    -O /tmp/horse-or-human.zip\n",
        "\n",
        "!wget --no-check-certificate \\\n",
        "    https://storage.googleapis.com/laurencemoroney-blog.appspot.com/validation-horse-or-human.zip \\\n",
        "    -O /tmp/validation-horse-or-human.zip"
      ],
      "execution_count": 1,
      "outputs": [
        {
          "output_type": "stream",
          "text": [
            "--2021-05-28 01:21:38--  https://storage.googleapis.com/laurencemoroney-blog.appspot.com/horse-or-human.zip\n",
            "Resolving storage.googleapis.com (storage.googleapis.com)... 74.125.142.128, 74.125.195.128, 2607:f8b0:400e:c02::80, ...\n",
            "Connecting to storage.googleapis.com (storage.googleapis.com)|74.125.142.128|:443... connected.\n",
            "HTTP request sent, awaiting response... 200 OK\n",
            "Length: 149574867 (143M) [application/zip]\n",
            "Saving to: ‘/tmp/horse-or-human.zip’\n",
            "\n",
            "/tmp/horse-or-human 100%[===================>] 142.65M  43.9MB/s    in 3.2s    \n",
            "\n",
            "2021-05-28 01:21:42 (43.9 MB/s) - ‘/tmp/horse-or-human.zip’ saved [149574867/149574867]\n",
            "\n",
            "--2021-05-28 01:21:42--  https://storage.googleapis.com/laurencemoroney-blog.appspot.com/validation-horse-or-human.zip\n",
            "Resolving storage.googleapis.com (storage.googleapis.com)... 142.250.107.128, 74.125.135.128, 74.125.142.128, ...\n",
            "Connecting to storage.googleapis.com (storage.googleapis.com)|142.250.107.128|:443... connected.\n",
            "HTTP request sent, awaiting response... 200 OK\n",
            "Length: 11480187 (11M) [application/zip]\n",
            "Saving to: ‘/tmp/validation-horse-or-human.zip’\n",
            "\n",
            "/tmp/validation-hor 100%[===================>]  10.95M  32.9MB/s    in 0.3s    \n",
            "\n",
            "2021-05-28 01:21:42 (32.9 MB/s) - ‘/tmp/validation-horse-or-human.zip’ saved [11480187/11480187]\n",
            "\n"
          ],
          "name": "stdout"
        }
      ]
    },
    {
      "cell_type": "code",
      "metadata": {
        "id": "_0uxp2C7W1V5"
      },
      "source": [
        "\n",
        "import tensorflow as tf\n",
        "import numpy as np \n",
        "import os \n",
        "import zipfile\n",
        "from tensorflow.keras.preprocessing.image import ImageDataGenerator\n"
      ],
      "execution_count": 2,
      "outputs": []
    },
    {
      "cell_type": "code",
      "metadata": {
        "id": "ccn2tx7bXItG"
      },
      "source": [
        "local_zip = '/tmp/horse-or-human.zip'\n",
        "zip_ref=  zipfile.ZipFile(local_zip, 'r')\n",
        "zip_ref.extractall('/tmp/horse-or-human')\n",
        "zip_ref.close()\n",
        "\n",
        "\n",
        "local_zip = '/tmp/validation-horse-or-human.zip'\n",
        "zip_ref=  zipfile.ZipFile(local_zip, 'r')\n",
        "zip_ref.extractall('/tmp/validation-horse-or-human')\n",
        "zip_ref.close()"
      ],
      "execution_count": 3,
      "outputs": []
    },
    {
      "cell_type": "code",
      "metadata": {
        "id": "PE0XUAKFX9Pm"
      },
      "source": [
        "train_horse = os.path.join('/tmp/horse-or-human/horses')\n",
        "train_human = os.path.join('/tmp/horse-or-human/humans')\n",
        "valid_horse = os.path.join('/tmp/validation-horse-or-human/horses')\n",
        "valid_human = os.path.join('/tmp/validation-horse-or-human/humans')\n",
        "#type = str\n",
        "\n",
        "train_horse_name = os.listdir(train_horse)\n",
        "train_human_name = os.listdir(train_human)\n",
        "valid_horse_name = os.listdir(valid_horse)\n",
        "valid_human_name = os.listdir(valid_human)\n",
        "#type = list"
      ],
      "execution_count": 4,
      "outputs": []
    },
    {
      "cell_type": "code",
      "metadata": {
        "colab": {
          "base_uri": "https://localhost:8080/"
        },
        "id": "mkqPMZQ1YfEZ",
        "outputId": "08cc94dd-2537-4558-9e42-08191160fb0a"
      },
      "source": [
        "model = tf.keras.Sequential([tf.keras.layers.Conv2D(16,(3,3),activation='relu',input_shape=(300,300,3)),\n",
        "                             tf.keras.layers.MaxPool2D(2,2),\n",
        "                             tf.keras.layers.Conv2D(32,(3,3),activation='relu'),\n",
        "                             tf.keras.layers.MaxPool2D(2,2),\n",
        "                             tf.keras.layers.Conv2D(64,(3,3),activation='relu'),\n",
        "                             tf.keras.layers.MaxPool2D(2,2),\n",
        "                             tf.keras.layers.Conv2D(64,(3,3),activation='relu'),\n",
        "                             tf.keras.layers.MaxPool2D(2,2),\n",
        "                             tf.keras.layers.Conv2D(64,(3,3),activation='relu'),\n",
        "                             tf.keras.layers.MaxPool2D(2,2),\n",
        "                             \n",
        "                             tf.keras.layers.Flatten(),\n",
        "                             tf.keras.layers.Dense(512,activation='relu'),\n",
        "                             tf.keras.layers.Dense(2,activation='softmax')])\n",
        "model.summary()\n"
      ],
      "execution_count": 5,
      "outputs": [
        {
          "output_type": "stream",
          "text": [
            "Model: \"sequential\"\n",
            "_________________________________________________________________\n",
            "Layer (type)                 Output Shape              Param #   \n",
            "=================================================================\n",
            "conv2d (Conv2D)              (None, 298, 298, 16)      448       \n",
            "_________________________________________________________________\n",
            "max_pooling2d (MaxPooling2D) (None, 149, 149, 16)      0         \n",
            "_________________________________________________________________\n",
            "conv2d_1 (Conv2D)            (None, 147, 147, 32)      4640      \n",
            "_________________________________________________________________\n",
            "max_pooling2d_1 (MaxPooling2 (None, 73, 73, 32)        0         \n",
            "_________________________________________________________________\n",
            "conv2d_2 (Conv2D)            (None, 71, 71, 64)        18496     \n",
            "_________________________________________________________________\n",
            "max_pooling2d_2 (MaxPooling2 (None, 35, 35, 64)        0         \n",
            "_________________________________________________________________\n",
            "conv2d_3 (Conv2D)            (None, 33, 33, 64)        36928     \n",
            "_________________________________________________________________\n",
            "max_pooling2d_3 (MaxPooling2 (None, 16, 16, 64)        0         \n",
            "_________________________________________________________________\n",
            "conv2d_4 (Conv2D)            (None, 14, 14, 64)        36928     \n",
            "_________________________________________________________________\n",
            "max_pooling2d_4 (MaxPooling2 (None, 7, 7, 64)          0         \n",
            "_________________________________________________________________\n",
            "flatten (Flatten)            (None, 3136)              0         \n",
            "_________________________________________________________________\n",
            "dense (Dense)                (None, 512)               1606144   \n",
            "_________________________________________________________________\n",
            "dense_1 (Dense)              (None, 2)                 1026      \n",
            "=================================================================\n",
            "Total params: 1,704,610\n",
            "Trainable params: 1,704,610\n",
            "Non-trainable params: 0\n",
            "_________________________________________________________________\n"
          ],
          "name": "stdout"
        }
      ]
    },
    {
      "cell_type": "code",
      "metadata": {
        "id": "TqmLj1OcgMUL",
        "colab": {
          "base_uri": "https://localhost:8080/"
        },
        "outputId": "76882616-8d5d-49e2-dc9c-d1388ca424d1"
      },
      "source": [
        "from tensorflow.keras.optimizers import RMSprop\n",
        "\n",
        "model.compile(optimizer=RMSprop(lr=0.001),loss='sparse_categorical_crossentropy',metrics=['accuracy'])"
      ],
      "execution_count": 6,
      "outputs": [
        {
          "output_type": "stream",
          "text": [
            "/usr/local/lib/python3.7/dist-packages/tensorflow/python/keras/optimizer_v2/optimizer_v2.py:375: UserWarning: The `lr` argument is deprecated, use `learning_rate` instead.\n",
            "  \"The `lr` argument is deprecated, use `learning_rate` instead.\")\n"
          ],
          "name": "stderr"
        }
      ]
    },
    {
      "cell_type": "code",
      "metadata": {
        "colab": {
          "base_uri": "https://localhost:8080/"
        },
        "id": "SA6mPqE_Uihs",
        "outputId": "6b6e20ac-9e8c-4eee-f147-68ada7422898"
      },
      "source": [
        "train_datagen = ImageDataGenerator(rescale=1/255)\n",
        "valid_datagen = ImageDataGenerator(rescale=1/255)\n",
        "\n",
        "train_generator = train_datagen.flow_from_directory('/tmp/horse-or-human/',target_size=(300,300),batch_size=128,class_mode='binary')\n",
        "valid_generator = valid_datagen.flow_from_directory('/tmp/validation-horse-or-human/',target_size=(300,300),batch_size=32,class_mode='binary')\n"
      ],
      "execution_count": 8,
      "outputs": [
        {
          "output_type": "stream",
          "text": [
            "Found 1027 images belonging to 2 classes.\n",
            "Found 256 images belonging to 2 classes.\n"
          ],
          "name": "stdout"
        }
      ]
    },
    {
      "cell_type": "code",
      "metadata": {
        "colab": {
          "base_uri": "https://localhost:8080/"
        },
        "id": "s9ODWGHJa7Hb",
        "outputId": "e5bfebb8-12c8-4131-e1ef-7c0b6d261ec2"
      },
      "source": [
        "history=model.fit(train_generator,steps_per_epoch=8,epochs=15,verbose=1,validation_data=valid_generator,validation_steps=8)\n"
      ],
      "execution_count": 9,
      "outputs": [
        {
          "output_type": "stream",
          "text": [
            "Epoch 1/15\n",
            "8/8 [==============================] - 84s 10s/step - loss: 0.9272 - accuracy: 0.5083 - val_loss: 0.6752 - val_accuracy: 0.8242\n",
            "Epoch 2/15\n",
            "8/8 [==============================] - 81s 10s/step - loss: 0.7553 - accuracy: 0.6429 - val_loss: 0.5653 - val_accuracy: 0.7148\n",
            "Epoch 3/15\n",
            "8/8 [==============================] - 82s 12s/step - loss: 0.5706 - accuracy: 0.7531 - val_loss: 1.4502 - val_accuracy: 0.5547\n",
            "Epoch 4/15\n",
            "8/8 [==============================] - 82s 12s/step - loss: 0.4219 - accuracy: 0.7987 - val_loss: 0.3558 - val_accuracy: 0.8789\n",
            "Epoch 5/15\n",
            "8/8 [==============================] - 88s 10s/step - loss: 0.3811 - accuracy: 0.8365 - val_loss: 0.8629 - val_accuracy: 0.8438\n",
            "Epoch 6/15\n",
            "8/8 [==============================] - 92s 12s/step - loss: 0.1554 - accuracy: 0.9385 - val_loss: 1.6114 - val_accuracy: 0.8008\n",
            "Epoch 7/15\n",
            "8/8 [==============================] - 83s 10s/step - loss: 0.3468 - accuracy: 0.8732 - val_loss: 0.8035 - val_accuracy: 0.8242\n",
            "Epoch 8/15\n",
            "8/8 [==============================] - 82s 10s/step - loss: 0.1796 - accuracy: 0.9310 - val_loss: 0.9578 - val_accuracy: 0.8477\n",
            "Epoch 9/15\n",
            "8/8 [==============================] - 82s 10s/step - loss: 0.1769 - accuracy: 0.9511 - val_loss: 1.0995 - val_accuracy: 0.8516\n",
            "Epoch 10/15\n",
            "8/8 [==============================] - 82s 10s/step - loss: 0.1540 - accuracy: 0.9555 - val_loss: 1.3593 - val_accuracy: 0.8398\n",
            "Epoch 11/15\n",
            "8/8 [==============================] - 89s 11s/step - loss: 0.0476 - accuracy: 0.9855 - val_loss: 1.9486 - val_accuracy: 0.8125\n",
            "Epoch 12/15\n",
            "8/8 [==============================] - 92s 12s/step - loss: 0.0301 - accuracy: 0.9932 - val_loss: 1.4879 - val_accuracy: 0.8594\n",
            "Epoch 13/15\n",
            "8/8 [==============================] - 86s 11s/step - loss: 0.4804 - accuracy: 0.8921 - val_loss: 1.4059 - val_accuracy: 0.8359\n",
            "Epoch 14/15\n",
            "8/8 [==============================] - 93s 12s/step - loss: 0.0297 - accuracy: 0.9902 - val_loss: 1.3414 - val_accuracy: 0.8594\n",
            "Epoch 15/15\n",
            "8/8 [==============================] - 82s 10s/step - loss: 0.0271 - accuracy: 0.9889 - val_loss: 4.3939 - val_accuracy: 0.7188\n"
          ],
          "name": "stdout"
        }
      ]
    },
    {
      "cell_type": "code",
      "metadata": {
        "id": "XKxMjlA7lQ5y",
        "colab": {
          "base_uri": "https://localhost:8080/",
          "height": 129
        },
        "outputId": "b55fb5de-29a0-43ac-c586-1bafa784b2ea"
      },
      "source": [
        "import numpy as np \n",
        "from google.colab import files\n",
        "from keras.preprocessing import image\n",
        "\n",
        "uploaded = files.upload()\n",
        "\n",
        "for fn in uploaded.keys():\n",
        "    path = '/content/' + fn\n",
        "  img = image.load_img(path, target_size=(300, 300))\n",
        "  x = image.img_to_array(img)\n",
        "  x = np.expand_dims(x, axis=0)\n",
        "\n",
        "  images = np.vstack([x])\n",
        "  classes = model.predict(images, batch_size=10)\n",
        "  print(classes[0])\n",
        "  if classes[0]>0.5:\n",
        "    print(fn + \" is a human\")\n",
        "  \n",
        "  else:\n",
        "    print(fn + \" is a horse\")"
      ],
      "execution_count": 10,
      "outputs": [
        {
          "output_type": "error",
          "ename": "IndentationError",
          "evalue": "ignored",
          "traceback": [
            "\u001b[0;36m  File \u001b[0;32m\"<ipython-input-10-3b7fc3ed8b52>\"\u001b[0;36m, line \u001b[0;32m9\u001b[0m\n\u001b[0;31m    img = image.load_img(path, target_size=(300, 300))\u001b[0m\n\u001b[0m                                                      ^\u001b[0m\n\u001b[0;31mIndentationError\u001b[0m\u001b[0;31m:\u001b[0m unindent does not match any outer indentation level\n"
          ]
        }
      ]
    },
    {
      "cell_type": "code",
      "metadata": {
        "id": "dkSxypxrhV5m",
        "colab": {
          "base_uri": "https://localhost:8080/",
          "height": 562
        },
        "outputId": "49ade551-bec9-4d05-9ffe-061f654049c3"
      },
      "source": [
        "\n",
        "import matplotlib.pyplot as plt\n",
        "\n",
        "#-----------------------------------------------------------\n",
        "# Retrieve a list of list results on training and test data\n",
        "# sets for each training epoch\n",
        "#-----------------------------------------------------------\n",
        "acc      = history.history[     'accuracy' ]\n",
        "val_acc  = history.history[ 'val_accuracy' ]\n",
        "loss     = history.history[    'loss' ]\n",
        "val_loss = history.history['val_loss' ]\n",
        "\n",
        "epochs   = range(len(acc)) # Get number of epochs\n",
        "\n",
        "#------------------------------------------------\n",
        "# Plot training and validation accuracy per epoch\n",
        "#------------------------------------------------\n",
        "plt.plot  ( epochs,     acc )\n",
        "plt.plot  ( epochs, val_acc )\n",
        "plt.title ('Training and validation accuracy')\n",
        "plt.figure()\n",
        "\n",
        "#------------------------------------------------\n",
        "# Plot training and validation loss per epoch\n",
        "#------------------------------------------------\n",
        "plt.plot  ( epochs,     loss )\n",
        "plt.plot  ( epochs, val_loss )\n",
        "plt.title ('Training and validation loss'   )"
      ],
      "execution_count": 13,
      "outputs": [
        {
          "output_type": "execute_result",
          "data": {
            "text/plain": [
              "Text(0.5, 1.0, 'Training and validation loss')"
            ]
          },
          "metadata": {
            "tags": []
          },
          "execution_count": 13
        },
        {
          "output_type": "display_data",
          "data": {
            "image/png": "[encoded data removed]",
            "text/plain": [
              "<Figure size 432x288 with 1 Axes>"
            ]
          },
          "metadata": {
            "tags": [],
            "needs_background": "light"
          }
        },
        {
          "output_type": "display_data",
          "data": {
            "image/png": "[encoded data removed]",
            "text/plain": [
              "<Figure size 432x288 with 1 Axes>"
            ]
          },
          "metadata": {
            "tags": [],
            "needs_background": "light"
          }
        }
      ]
    },
    {
      "cell_type": "code",
      "metadata": {
        "id": "_VLbRSJVfrtV",
        "colab": {
          "base_uri": "https://localhost:8080/"
        },
        "outputId": "bbd2abab-6220-43f4-9a28-4463494c3c1d"
      },
      "source": [
        "train_datagen = ImageDataGenerator(\n",
        "      rescale=1./255,\n",
        "      rotation_range=40,\n",
        "      width_shift_range=0.2,\n",
        "      height_shift_range=0.2,\n",
        "      shear_range=0.2,\n",
        "      zoom_range=0.2,\n",
        "      horizontal_flip=True,\n",
        "      fill_mode='nearest')\n",
        "\n",
        "valid_datagen = ImageDataGenerator(rescale=1/255)\n",
        "\n",
        "\n",
        "train_generator = train_datagen.flow_from_directory(\n",
        "        '/tmp/horse-or-human/',  \n",
        "        target_size=(300, 300),  \n",
        "        batch_size=128,\n",
        "        class_mode='binary')\n",
        "\n",
        "valid_generator = valid_datagen.flow_from_directory('/tmp/validation-horse-or-human/',target_size=(300,300),batch_size=32,class_mode='binary')\n",
        "\n",
        "history = model.fit(\n",
        "      train_generator,\n",
        "      steps_per_epoch=8,  \n",
        "      epochs=15,\n",
        "      verbose=1,\n",
        "      validation_data = valid_generator,\n",
        "      validation_steps=8)"
      ],
      "execution_count": 22,
      "outputs": [
        {
          "output_type": "stream",
          "text": [
            "Found 1027 images belonging to 2 classes.\n",
            "Found 256 images belonging to 2 classes.\n",
            "Epoch 1/15\n",
            "8/8 [==============================] - 99s 12s/step - loss: 0.5330 - accuracy: 0.7442 - val_loss: 0.9382 - val_accuracy: 0.7227\n",
            "Epoch 2/15\n",
            "8/8 [==============================] - 99s 12s/step - loss: 0.7220 - accuracy: 0.7620 - val_loss: 0.6912 - val_accuracy: 0.6953\n",
            "Epoch 3/15\n",
            "8/8 [==============================] - 98s 12s/step - loss: 0.4581 - accuracy: 0.7953 - val_loss: 1.6920 - val_accuracy: 0.6016\n",
            "Epoch 4/15\n",
            "8/8 [==============================] - 122s 15s/step - loss: 0.3771 - accuracy: 0.8340 - val_loss: 0.8038 - val_accuracy: 0.8086\n",
            "Epoch 5/15\n",
            "8/8 [==============================] - 109s 13s/step - loss: 0.3171 - accuracy: 0.8545 - val_loss: 2.5490 - val_accuracy: 0.6445\n",
            "Epoch 6/15\n",
            "8/8 [==============================] - 104s 13s/step - loss: 0.4430 - accuracy: 0.8343 - val_loss: 0.3435 - val_accuracy: 0.8945\n",
            "Epoch 7/15\n",
            "8/8 [==============================] - 104s 13s/step - loss: 0.3803 - accuracy: 0.8632 - val_loss: 1.6450 - val_accuracy: 0.6289\n",
            "Epoch 8/15\n",
            "8/8 [==============================] - 101s 12s/step - loss: 0.3104 - accuracy: 0.8654 - val_loss: 0.6085 - val_accuracy: 0.8672\n",
            "Epoch 9/15\n",
            "8/8 [==============================] - 105s 13s/step - loss: 0.3406 - accuracy: 0.8632 - val_loss: 2.4870 - val_accuracy: 0.6758\n",
            "Epoch 10/15\n",
            "8/8 [==============================] - 103s 12s/step - loss: 0.2582 - accuracy: 0.8932 - val_loss: 2.4499 - val_accuracy: 0.7656\n",
            "Epoch 11/15\n",
            "8/8 [==============================] - 101s 12s/step - loss: 0.1820 - accuracy: 0.9366 - val_loss: 8.7891 - val_accuracy: 0.5703\n",
            "Epoch 12/15\n",
            "8/8 [==============================] - 104s 13s/step - loss: 0.4933 - accuracy: 0.8254 - val_loss: 1.5415 - val_accuracy: 0.7617\n",
            "Epoch 13/15\n",
            "8/8 [==============================] - 100s 12s/step - loss: 0.2569 - accuracy: 0.8988 - val_loss: 1.7686 - val_accuracy: 0.7734\n",
            "Epoch 14/15\n",
            "8/8 [==============================] - 109s 13s/step - loss: 0.4102 - accuracy: 0.8662 - val_loss: 0.9275 - val_accuracy: 0.8047\n",
            "Epoch 15/15\n",
            "8/8 [==============================] - 107s 15s/step - loss: 0.2483 - accuracy: 0.9043 - val_loss: 1.0500 - val_accuracy: 0.8281\n"
          ],
          "name": "stdout"
        }
      ]
    },
    {
      "cell_type": "code",
      "metadata": {
        "id": "ZS7uHQUjgCPi",
        "colab": {
          "base_uri": "https://localhost:8080/",
          "height": 545
        },
        "outputId": "74538e58-14ac-47e5-d509-1c759320c535"
      },
      "source": [
        "import matplotlib.pyplot as plt\n",
        "acc = history.history['accuracy']\n",
        "val_acc = history.history['val_accuracy']\n",
        "loss = history.history['loss']\n",
        "val_loss = history.history['val_loss']\n",
        "\n",
        "epochs = range(len(acc))\n",
        "\n",
        "plt.plot(epochs, acc, 'r', label='Training accuracy')\n",
        "plt.plot(epochs, val_acc, 'b', label='Validation accuracy')\n",
        "plt.title('Training and validation accuracy')\n",
        "\n",
        "plt.figure()\n",
        "\n",
        "plt.plot(epochs, loss, 'r', label='Training Loss')\n",
        "plt.plot(epochs, val_loss, 'b', label='Validation Loss')\n",
        "plt.title('Training and validation loss')\n",
        "plt.legend()\n",
        "\n",
        "plt.show()"
      ],
      "execution_count": 23,
      "outputs": [
        {
          "output_type": "display_data",
          "data": {
            "image/png": "[encoded data removed]",
            "text/plain": [
              "<Figure size 432x288 with 1 Axes>"
            ]
          },
          "metadata": {
            "tags": [],
            "needs_background": "light"
          }
        },
        {
          "output_type": "display_data",
          "data": {
            "image/png": "[encoded data removed]",
            "text/plain": [
              "<Figure size 432x288 with 1 Axes>"
            ]
          },
          "metadata": {
            "tags": [],
            "needs_background": "light"
          }
        }
      ]
    }
  ]
}