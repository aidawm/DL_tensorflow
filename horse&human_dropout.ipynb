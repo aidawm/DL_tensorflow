{
  "nbformat": 4,
  "nbformat_minor": 0,
  "metadata": {
    "colab": {
      "name": "horse&human-dropout.ipynb",
      "provenance": [],
      "authorship_tag": "ABX9TyOuF+vnjgNKIcJ0uUku4C7p",
      "include_colab_link": true
    },
    "kernelspec": {
      "name": "python3",
      "display_name": "Python 3"
    },
    "language_info": {
      "name": "python"
    }
  },
  "cells": [
    {
      "cell_type": "markdown",
      "metadata": {
        "id": "view-in-github",
        "colab_type": "text"
      },
      "source": [
        "<a href=\"https://colab.research.google.com/github/aidawm/new_repo/blob/main/horse%26human_dropout.ipynb\" target=\"_parent\"><img src=\"https://colab.research.google.com/assets/colab-badge.svg\" alt=\"Open In Colab\"/></a>"
      ]
    },
    {
      "cell_type": "code",
      "metadata": {
        "colab": {
          "base_uri": "https://localhost:8080/"
        },
        "id": "E54uCN5TWseC",
        "outputId": "acdad8ad-3803-4d61-e69d-0e30ce6e5962"
      },
      "source": [
        "!wget --no-check-certificate \\\n",
        "    https://storage.googleapis.com/laurencemoroney-blog.appspot.com/horse-or-human.zip \\\n",
        "    -O /tmp/horse-or-human.zip\n",
        "\n",
        "!wget --no-check-certificate \\\n",
        "    https://storage.googleapis.com/laurencemoroney-blog.appspot.com/validation-horse-or-human.zip \\\n",
        "    -O /tmp/validation-horse-or-human.zip"
      ],
      "execution_count": 1,
      "outputs": [
        {
          "output_type": "stream",
          "text": [
            "--2021-05-28 01:21:38--  https://storage.googleapis.com/laurencemoroney-blog.appspot.com/horse-or-human.zip\n",
            "Resolving storage.googleapis.com (storage.googleapis.com)... 74.125.142.128, 74.125.195.128, 2607:f8b0:400e:c02::80, ...\n",
            "Connecting to storage.googleapis.com (storage.googleapis.com)|74.125.142.128|:443... connected.\n",
            "HTTP request sent, awaiting response... 200 OK\n",
            "Length: 149574867 (143M) [application/zip]\n",
            "Saving to: ‘/tmp/horse-or-human.zip’\n",
            "\n",
            "/tmp/horse-or-human 100%[===================>] 142.65M  43.9MB/s    in 3.2s    \n",
            "\n",
            "2021-05-28 01:21:42 (43.9 MB/s) - ‘/tmp/horse-or-human.zip’ saved [149574867/149574867]\n",
            "\n",
            "--2021-05-28 01:21:42--  https://storage.googleapis.com/laurencemoroney-blog.appspot.com/validation-horse-or-human.zip\n",
            "Resolving storage.googleapis.com (storage.googleapis.com)... 142.250.107.128, 74.125.135.128, 74.125.142.128, ...\n",
            "Connecting to storage.googleapis.com (storage.googleapis.com)|142.250.107.128|:443... connected.\n",
            "HTTP request sent, awaiting response... 200 OK\n",
            "Length: 11480187 (11M) [application/zip]\n",
            "Saving to: ‘/tmp/validation-horse-or-human.zip’\n",
            "\n",
            "/tmp/validation-hor 100%[===================>]  10.95M  32.9MB/s    in 0.3s    \n",
            "\n",
            "2021-05-28 01:21:42 (32.9 MB/s) - ‘/tmp/validation-horse-or-human.zip’ saved [11480187/11480187]\n",
            "\n"
          ],
          "name": "stdout"
        }
      ]
    },
    {
      "cell_type": "code",
      "metadata": {
        "id": "_0uxp2C7W1V5"
      },
      "source": [
        "\n",
        "import tensorflow as tf\n",
        "import numpy as np \n",
        "import os \n",
        "import zipfile\n",
        "from tensorflow.keras.preprocessing.image import ImageDataGenerator\n"
      ],
      "execution_count": 2,
      "outputs": []
    },
    {
      "cell_type": "code",
      "metadata": {
        "id": "ccn2tx7bXItG"
      },
      "source": [
        "local_zip = '/tmp/horse-or-human.zip'\n",
        "zip_ref=  zipfile.ZipFile(local_zip, 'r')\n",
        "zip_ref.extractall('/tmp/horse-or-human')\n",
        "zip_ref.close()\n",
        "\n",
        "\n",
        "local_zip = '/tmp/validation-horse-or-human.zip'\n",
        "zip_ref=  zipfile.ZipFile(local_zip, 'r')\n",
        "zip_ref.extractall('/tmp/validation-horse-or-human')\n",
        "zip_ref.close()"
      ],
      "execution_count": 3,
      "outputs": []
    },
    {
      "cell_type": "code",
      "metadata": {
        "id": "PE0XUAKFX9Pm"
      },
      "source": [
        "train_horse = os.path.join('/tmp/horse-or-human/horses')\n",
        "train_human = os.path.join('/tmp/horse-or-human/humans')\n",
        "valid_horse = os.path.join('/tmp/validation-horse-or-human/horses')\n",
        "valid_human = os.path.join('/tmp/validation-horse-or-human/humans')\n",
        "#type = str\n",
        "\n",
        "train_horse_name = os.listdir(train_horse)\n",
        "train_human_name = os.listdir(train_human)\n",
        "valid_horse_name = os.listdir(valid_horse)\n",
        "valid_human_name = os.listdir(valid_human)\n",
        "#type = list"
      ],
      "execution_count": 4,
      "outputs": []
    },
    {
      "cell_type": "code",
      "metadata": {
        "colab": {
          "base_uri": "https://localhost:8080/"
        },
        "id": "mkqPMZQ1YfEZ",
        "outputId": "554691df-6615-4590-8878-b2739dcb85f9"
      },
      "source": [
        "model = tf.keras.Sequential([tf.keras.layers.Conv2D(16,(3,3),activation='relu',input_shape=(300,300,3)),\n",
        "                             tf.keras.layers.MaxPool2D(2,2),\n",
        "                             tf.keras.layers.Dropout(0.2),\n",
        "                             tf.keras.layers.Conv2D(32,(3,3),activation='relu'),\n",
        "                             tf.keras.layers.MaxPool2D(2,2),\n",
        "                             tf.keras.layers.Dropout(0.2),\n",
        "                             tf.keras.layers.Conv2D(64,(3,3),activation='relu'),\n",
        "                             tf.keras.layers.MaxPool2D(2,2),\n",
        "                             tf.keras.layers.Dropout(0.2),\n",
        "                             tf.keras.layers.Conv2D(64,(3,3),activation='relu'),\n",
        "                             tf.keras.layers.MaxPool2D(2,2),\n",
        "                             tf.keras.layers.Dropout(0.2),\n",
        "                             tf.keras.layers.Conv2D(64,(3,3),activation='relu'),\n",
        "                             tf.keras.layers.MaxPool2D(2,2),\n",
        "                             tf.keras.layers.Dropout(0.2),\n",
        "                             tf.keras.layers.Flatten(),\n",
        "                             tf.keras.layers.Dense(512,activation='relu'),\n",
        "                             tf.keras.layers.Dense(2,activation='softmax')])\n",
        "model.summary()\n"
      ],
      "execution_count": 27,
      "outputs": [
        {
          "output_type": "stream",
          "text": [
            "Model: \"sequential_1\"\n",
            "_________________________________________________________________\n",
            "Layer (type)                 Output Shape              Param #   \n",
            "=================================================================\n",
            "conv2d_5 (Conv2D)            (None, 298, 298, 16)      448       \n",
            "_________________________________________________________________\n",
            "max_pooling2d_5 (MaxPooling2 (None, 149, 149, 16)      0         \n",
            "_________________________________________________________________\n",
            "dropout (Dropout)            (None, 149, 149, 16)      0         \n",
            "_________________________________________________________________\n",
            "conv2d_6 (Conv2D)            (None, 147, 147, 32)      4640      \n",
            "_________________________________________________________________\n",
            "max_pooling2d_6 (MaxPooling2 (None, 73, 73, 32)        0         \n",
            "_________________________________________________________________\n",
            "dropout_1 (Dropout)          (None, 73, 73, 32)        0         \n",
            "_________________________________________________________________\n",
            "conv2d_7 (Conv2D)            (None, 71, 71, 64)        18496     \n",
            "_________________________________________________________________\n",
            "max_pooling2d_7 (MaxPooling2 (None, 35, 35, 64)        0         \n",
            "_________________________________________________________________\n",
            "dropout_2 (Dropout)          (None, 35, 35, 64)        0         \n",
            "_________________________________________________________________\n",
            "conv2d_8 (Conv2D)            (None, 33, 33, 64)        36928     \n",
            "_________________________________________________________________\n",
            "max_pooling2d_8 (MaxPooling2 (None, 16, 16, 64)        0         \n",
            "_________________________________________________________________\n",
            "dropout_3 (Dropout)          (None, 16, 16, 64)        0         \n",
            "_________________________________________________________________\n",
            "conv2d_9 (Conv2D)            (None, 14, 14, 64)        36928     \n",
            "_________________________________________________________________\n",
            "max_pooling2d_9 (MaxPooling2 (None, 7, 7, 64)          0         \n",
            "_________________________________________________________________\n",
            "dropout_4 (Dropout)          (None, 7, 7, 64)          0         \n",
            "_________________________________________________________________\n",
            "flatten_1 (Flatten)          (None, 3136)              0         \n",
            "_________________________________________________________________\n",
            "dense_2 (Dense)              (None, 512)               1606144   \n",
            "_________________________________________________________________\n",
            "dense_3 (Dense)              (None, 2)                 1026      \n",
            "=================================================================\n",
            "Total params: 1,704,610\n",
            "Trainable params: 1,704,610\n",
            "Non-trainable params: 0\n",
            "_________________________________________________________________\n"
          ],
          "name": "stdout"
        }
      ]
    },
    {
      "cell_type": "code",
      "metadata": {
        "id": "TqmLj1OcgMUL",
        "colab": {
          "base_uri": "https://localhost:8080/"
        },
        "outputId": "3f214279-67ab-451d-b7b5-4b9742229669"
      },
      "source": [
        "from tensorflow.keras.optimizers import RMSprop\n",
        "\n",
        "model.compile(optimizer=RMSprop(lr=0.001),loss='sparse_categorical_crossentropy',metrics=['accuracy'])"
      ],
      "execution_count": 28,
      "outputs": [
        {
          "output_type": "stream",
          "text": [
            "/usr/local/lib/python3.7/dist-packages/tensorflow/python/keras/optimizer_v2/optimizer_v2.py:375: UserWarning: The `lr` argument is deprecated, use `learning_rate` instead.\n",
            "  \"The `lr` argument is deprecated, use `learning_rate` instead.\")\n"
          ],
          "name": "stderr"
        }
      ]
    },
    {
      "cell_type": "code",
      "metadata": {
        "colab": {
          "base_uri": "https://localhost:8080/"
        },
        "id": "SA6mPqE_Uihs",
        "outputId": "7929c0c2-8ef4-46fe-9574-c5f5f8a5948a"
      },
      "source": [
        "train_datagen = ImageDataGenerator(rescale=1/255)\n",
        "valid_datagen = ImageDataGenerator(rescale=1/255)\n",
        "\n",
        "train_generator = train_datagen.flow_from_directory('/tmp/horse-or-human/',target_size=(300,300),batch_size=128,class_mode='binary')\n",
        "valid_generator = valid_datagen.flow_from_directory('/tmp/validation-horse-or-human/',target_size=(300,300),batch_size=32,class_mode='binary')\n"
      ],
      "execution_count": 30,
      "outputs": [
        {
          "output_type": "stream",
          "text": [
            "Found 1027 images belonging to 2 classes.\n",
            "Found 256 images belonging to 2 classes.\n"
          ],
          "name": "stdout"
        }
      ]
    },
    {
      "cell_type": "code",
      "metadata": {
        "colab": {
          "base_uri": "https://localhost:8080/"
        },
        "id": "s9ODWGHJa7Hb",
        "outputId": "b18d9e42-7700-46b6-89d8-545fffd8f43e"
      },
      "source": [
        "history=model.fit(train_generator,steps_per_epoch=8,epochs=15,verbose=1,validation_data=valid_generator,validation_steps=8)\n"
      ],
      "execution_count": 31,
      "outputs": [
        {
          "output_type": "stream",
          "text": [
            "Epoch 1/15\n",
            "8/8 [==============================] - 91s 11s/step - loss: 2.8169 - accuracy: 0.5295 - val_loss: 0.6939 - val_accuracy: 0.4414\n",
            "Epoch 2/15\n",
            "8/8 [==============================] - 88s 11s/step - loss: 0.6740 - accuracy: 0.5918 - val_loss: 0.7032 - val_accuracy: 0.5000\n",
            "Epoch 3/15\n",
            "8/8 [==============================] - 88s 11s/step - loss: 0.7349 - accuracy: 0.5862 - val_loss: 0.6959 - val_accuracy: 0.5000\n",
            "Epoch 4/15\n",
            "8/8 [==============================] - 88s 11s/step - loss: 0.7049 - accuracy: 0.6085 - val_loss: 0.6915 - val_accuracy: 0.5000\n",
            "Epoch 5/15\n",
            "8/8 [==============================] - 98s 12s/step - loss: 0.6105 - accuracy: 0.6941 - val_loss: 0.6837 - val_accuracy: 0.5156\n",
            "Epoch 6/15\n",
            "8/8 [==============================] - 89s 13s/step - loss: 0.8378 - accuracy: 0.7264 - val_loss: 0.6370 - val_accuracy: 0.5977\n",
            "Epoch 7/15\n",
            "8/8 [==============================] - 89s 11s/step - loss: 0.6788 - accuracy: 0.7108 - val_loss: 0.6739 - val_accuracy: 0.5586\n",
            "Epoch 8/15\n",
            "8/8 [==============================] - 90s 11s/step - loss: 0.5196 - accuracy: 0.8109 - val_loss: 0.6159 - val_accuracy: 0.6016\n",
            "Epoch 9/15\n",
            "8/8 [==============================] - 92s 11s/step - loss: 0.4287 - accuracy: 0.8087 - val_loss: 0.6504 - val_accuracy: 0.5977\n",
            "Epoch 10/15\n",
            "8/8 [==============================] - 97s 12s/step - loss: 0.7741 - accuracy: 0.7152 - val_loss: 0.5762 - val_accuracy: 0.7305\n",
            "Epoch 11/15\n",
            "8/8 [==============================] - 88s 11s/step - loss: 0.3751 - accuracy: 0.8665 - val_loss: 0.4993 - val_accuracy: 0.7656\n",
            "Epoch 12/15\n",
            "8/8 [==============================] - 90s 11s/step - loss: 0.2345 - accuracy: 0.9210 - val_loss: 0.8791 - val_accuracy: 0.6680\n",
            "Epoch 13/15\n",
            "8/8 [==============================] - 90s 11s/step - loss: 0.7613 - accuracy: 0.7798 - val_loss: 0.4718 - val_accuracy: 0.8125\n",
            "Epoch 14/15\n",
            "8/8 [==============================] - 89s 11s/step - loss: 0.2988 - accuracy: 0.8665 - val_loss: 0.3707 - val_accuracy: 0.8320\n",
            "Epoch 15/15\n",
            "8/8 [==============================] - 100s 12s/step - loss: 0.1995 - accuracy: 0.9209 - val_loss: 0.4460 - val_accuracy: 0.8320\n"
          ],
          "name": "stdout"
        }
      ]
    },
    {
      "cell_type": "code",
      "metadata": {
        "id": "dkSxypxrhV5m",
        "colab": {
          "base_uri": "https://localhost:8080/",
          "height": 541
        },
        "outputId": "347d6338-d69f-492e-df99-61d578046ebe"
      },
      "source": [
        "import matplotlib.pyplot as plt\n",
        "\n",
        "\n",
        "def plot_graphs(history, string):\n",
        "  plt.plot(history.history[string])\n",
        "  plt.plot(history.history['val_'+string])\n",
        "  plt.xlabel(\"Epochs\")\n",
        "  plt.ylabel(string)\n",
        "  plt.legend([string, 'val_'+string])\n",
        "  plt.show()\n",
        "\n",
        "plot_graphs(history, 'accuracy')\n",
        "plot_graphs(history, 'loss')"
      ],
      "execution_count": 32,
      "outputs": [
        {
          "output_type": "display_data",
          "data": {
            "image/png": "[encoded data removed]",
            "text/plain": [
              "<Figure size 432x288 with 1 Axes>"
            ]
          },
          "metadata": {
            "tags": [],
            "needs_background": "light"
          }
        },
        {
          "output_type": "display_data",
          "data": {
            "image/png": "[encoded data removed]",
            "text/plain": [
              "<Figure size 432x288 with 1 Axes>"
            ]
          },
          "metadata": {
            "tags": [],
            "needs_background": "light"
          }
        }
      ]
    }
  ]
}