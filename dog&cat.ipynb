{
  "nbformat": 4,
  "nbformat_minor": 0,
  "metadata": {
    "colab": {
      "name": "dog&cat.ipynb",
      "provenance": [],
      "authorship_tag": "ABX9TyPZkLef4nf2Xztilqomfzib",
      "include_colab_link": true
    },
    "kernelspec": {
      "display_name": "Python 3",
      "name": "python3"
    },
    "language_info": {
      "name": "python"
    }
  },
  "cells": [
    {
      "cell_type": "markdown",
      "metadata": {
        "id": "view-in-github",
        "colab_type": "text"
      },
      "source": [
        "<a href=\"https://colab.research.google.com/github/aidawm/new_repo/blob/main/dog%26cat.ipynb\" target=\"_parent\"><img src=\"https://colab.research.google.com/assets/colab-badge.svg\" alt=\"Open In Colab\"/></a>"
      ]
    },
    {
      "cell_type": "code",
      "metadata": {
        "colab": {
          "base_uri": "https://localhost:8080/"
        },
        "id": "LUCILuQ2cIh_",
        "outputId": "3013a5f4-ab79-4a10-eaa4-73a74918327f"
      },
      "source": [
        "!wget --no-check-certificate \\\n",
        "    https://storage.googleapis.com/mledu-datasets/cats_and_dogs_filtered.zip \\\n",
        "    -O /tmp/cats_and_dogs_filtered.zip\n",
        "  \n",
        "import os\n",
        "import zipfile\n",
        "import tensorflow as tf\n",
        "from tensorflow.keras.optimizers import RMSprop\n",
        "from tensorflow.keras.preprocessing.image import ImageDataGenerator\n",
        "\n",
        "local_zip = '/tmp/cats_and_dogs_filtered.zip'\n",
        "zip_ref = zipfile.ZipFile(local_zip, 'r')\n",
        "zip_ref.extractall('/tmp')\n",
        "zip_ref.close()\n",
        "\n",
        "base_dir = '/tmp/cats_and_dogs_filtered'\n",
        "train_dir = os.path.join(base_dir, 'train')\n",
        "validation_dir = os.path.join(base_dir, 'validation')"
      ],
      "execution_count": null,
      "outputs": [
        {
          "output_type": "stream",
          "text": [
            "--2021-05-27 20:08:13--  https://storage.googleapis.com/mledu-datasets/cats_and_dogs_filtered.zip\n",
            "Resolving storage.googleapis.com (storage.googleapis.com)... 173.194.216.128, 173.194.217.128, 64.233.170.128, ...\n",
            "Connecting to storage.googleapis.com (storage.googleapis.com)|173.194.216.128|:443... connected.\n",
            "HTTP request sent, awaiting response... 200 OK\n",
            "Length: 68606236 (65M) [application/zip]\n",
            "Saving to: ‘/tmp/cats_and_dogs_filtered.zip’\n",
            "\n",
            "/tmp/cats_and_dogs_ 100%[===================>]  65.43M   139MB/s    in 0.5s    \n",
            "\n",
            "2021-05-27 20:08:13 (139 MB/s) - ‘/tmp/cats_and_dogs_filtered.zip’ saved [68606236/68606236]\n",
            "\n"
          ],
          "name": "stdout"
        }
      ]
    },
    {
      "cell_type": "code",
      "metadata": {
        "id": "nNIgulMccPkX"
      },
      "source": [
        "train_cats_dir = os.path.join(train_dir, 'cats')\n",
        "train_dogs_dir = os.path.join(train_dir, 'dogs')\n",
        "\n",
        "valid_cats_dir = os.path.join(validation_dir, 'cats')\n",
        "valid_dogs_dir = os.path.join(validation_dir, 'dogs')"
      ],
      "execution_count": null,
      "outputs": []
    },
    {
      "cell_type": "code",
      "metadata": {
        "id": "yk-I_90Xc1Hx"
      },
      "source": [
        "model = tf.keras.models.Sequential([\n",
        "    tf.keras.layers.Conv2D(32, (3,3), activation='relu', input_shape=(150, 150, 3)),\n",
        "    tf.keras.layers.MaxPooling2D(2, 2),\n",
        "    tf.keras.layers.Conv2D(64, (3,3), activation='relu'),\n",
        "    tf.keras.layers.MaxPooling2D(2,2),\n",
        "    tf.keras.layers.Conv2D(128, (3,3), activation='relu'),\n",
        "    tf.keras.layers.MaxPooling2D(2,2),\n",
        "    tf.keras.layers.Conv2D(128, (3,3), activation='relu'),\n",
        "    tf.keras.layers.MaxPooling2D(2,2),\n",
        "    tf.keras.layers.Flatten(),\n",
        "    tf.keras.layers.Dense(512, activation='relu'),\n",
        "    tf.keras.layers.Dense(1, activation='sigmoid')\n",
        "])"
      ],
      "execution_count": null,
      "outputs": []
    },
    {
      "cell_type": "code",
      "metadata": {
        "colab": {
          "base_uri": "https://localhost:8080/"
        },
        "id": "Ili2W69xc4-f",
        "outputId": "57ff68c1-e2b2-4b7c-d3ea-1a8aa5cce5aa"
      },
      "source": [
        "model.compile(loss='binary_crossentropy',\n",
        "              optimizer=RMSprop(lr=1e-4),\n",
        "              metrics=['accuracy'])"
      ],
      "execution_count": null,
      "outputs": [
        {
          "output_type": "stream",
          "text": [
            "/usr/local/lib/python3.7/dist-packages/tensorflow/python/keras/optimizer_v2/optimizer_v2.py:375: UserWarning: The `lr` argument is deprecated, use `learning_rate` instead.\n",
            "  \"The `lr` argument is deprecated, use `learning_rate` instead.\")\n"
          ],
          "name": "stderr"
        }
      ]
    },
    {
      "cell_type": "code",
      "metadata": {
        "colab": {
          "background_save": true,
          "base_uri": "https://localhost:8080/"
        },
        "id": "ebKSFOilc8v5",
        "outputId": "1b29de6f-948b-4c96-bbfe-e625a98fe06b"
      },
      "source": [
        "train_datagen = ImageDataGenerator(rescale=1./255)\n",
        "test_datagen = ImageDataGenerator(rescale=1./255)\n",
        "\n",
        "train_generator = train_datagen.flow_from_directory(\n",
        "        train_dir,\n",
        "        target_size=(150, 150),\n",
        "        batch_size=20,\n",
        "        class_mode='binary')\n",
        "\n",
        "validation_generator = test_datagen.flow_from_directory(\n",
        "        validation_dir,\n",
        "        target_size=(150, 150),\n",
        "        batch_size=20,\n",
        "        class_mode='binary')\n",
        "\n",
        "history = model.fit(\n",
        "      train_generator,\n",
        "      steps_per_epoch=100,\n",
        "      epochs=100,\n",
        "      validation_data=validation_generator,\n",
        "      validation_steps=50, \n",
        "      verbose=2)\n"
      ],
      "execution_count": null,
      "outputs": [
        {
          "output_type": "stream",
          "text": [
            "Found 2000 images belonging to 2 classes.\n",
            "Found 1000 images belonging to 2 classes.\n",
            "Epoch 1/100\n",
            "100/100 - 106s - loss: 0.6646 - accuracy: 0.6045 - val_loss: 0.6427 - val_accuracy: 0.6600\n",
            "Epoch 2/100\n",
            "100/100 - 107s - loss: 0.6349 - accuracy: 0.6340 - val_loss: 0.6155 - val_accuracy: 0.6830\n",
            "Epoch 3/100\n",
            "100/100 - 109s - loss: 0.5894 - accuracy: 0.6975 - val_loss: 0.5922 - val_accuracy: 0.6790\n",
            "Epoch 4/100\n",
            "100/100 - 106s - loss: 0.5537 - accuracy: 0.7150 - val_loss: 0.5557 - val_accuracy: 0.7200\n",
            "Epoch 5/100\n",
            "100/100 - 107s - loss: 0.5209 - accuracy: 0.7495 - val_loss: 0.5979 - val_accuracy: 0.6850\n",
            "Epoch 6/100\n",
            "100/100 - 107s - loss: 0.4969 - accuracy: 0.7515 - val_loss: 0.5457 - val_accuracy: 0.7190\n",
            "Epoch 7/100\n",
            "100/100 - 109s - loss: 0.4660 - accuracy: 0.7760 - val_loss: 0.5433 - val_accuracy: 0.7340\n",
            "Epoch 8/100\n",
            "100/100 - 106s - loss: 0.4398 - accuracy: 0.8050 - val_loss: 0.5657 - val_accuracy: 0.7140\n",
            "Epoch 9/100\n",
            "100/100 - 106s - loss: 0.4153 - accuracy: 0.8080 - val_loss: 0.6457 - val_accuracy: 0.6940\n",
            "Epoch 10/100\n",
            "100/100 - 106s - loss: 0.3992 - accuracy: 0.8250 - val_loss: 0.5648 - val_accuracy: 0.7110\n",
            "Epoch 11/100\n",
            "100/100 - 106s - loss: 0.3693 - accuracy: 0.8360 - val_loss: 0.5820 - val_accuracy: 0.7340\n",
            "Epoch 12/100\n",
            "100/100 - 106s - loss: 0.3429 - accuracy: 0.8530 - val_loss: 0.5426 - val_accuracy: 0.7490\n",
            "Epoch 13/100\n",
            "100/100 - 106s - loss: 0.3234 - accuracy: 0.8675 - val_loss: 0.5490 - val_accuracy: 0.7540\n",
            "Epoch 14/100\n",
            "100/100 - 107s - loss: 0.3048 - accuracy: 0.8700 - val_loss: 0.5497 - val_accuracy: 0.7650\n",
            "Epoch 15/100\n",
            "100/100 - 106s - loss: 0.2815 - accuracy: 0.8895 - val_loss: 0.5660 - val_accuracy: 0.7460\n",
            "Epoch 16/100\n",
            "100/100 - 106s - loss: 0.2568 - accuracy: 0.8960 - val_loss: 0.5670 - val_accuracy: 0.7540\n",
            "Epoch 17/100\n",
            "100/100 - 107s - loss: 0.2406 - accuracy: 0.9045 - val_loss: 0.5735 - val_accuracy: 0.7460\n",
            "Epoch 18/100\n",
            "100/100 - 106s - loss: 0.2086 - accuracy: 0.9150 - val_loss: 0.6103 - val_accuracy: 0.7420\n",
            "Epoch 19/100\n",
            "100/100 - 107s - loss: 0.1960 - accuracy: 0.9295 - val_loss: 0.6332 - val_accuracy: 0.7530\n",
            "Epoch 20/100\n",
            "100/100 - 107s - loss: 0.1700 - accuracy: 0.9390 - val_loss: 0.6889 - val_accuracy: 0.7320\n",
            "Epoch 21/100\n",
            "100/100 - 107s - loss: 0.1590 - accuracy: 0.9525 - val_loss: 0.6046 - val_accuracy: 0.7610\n",
            "Epoch 22/100\n",
            "100/100 - 106s - loss: 0.1384 - accuracy: 0.9560 - val_loss: 0.6394 - val_accuracy: 0.7450\n",
            "Epoch 23/100\n",
            "100/100 - 106s - loss: 0.1224 - accuracy: 0.9585 - val_loss: 0.7090 - val_accuracy: 0.7350\n",
            "Epoch 24/100\n",
            "100/100 - 106s - loss: 0.1024 - accuracy: 0.9685 - val_loss: 0.9150 - val_accuracy: 0.6960\n",
            "Epoch 25/100\n",
            "100/100 - 106s - loss: 0.0913 - accuracy: 0.9725 - val_loss: 0.7470 - val_accuracy: 0.7500\n",
            "Epoch 26/100\n",
            "100/100 - 106s - loss: 0.0799 - accuracy: 0.9750 - val_loss: 0.7644 - val_accuracy: 0.7560\n",
            "Epoch 27/100\n",
            "100/100 - 106s - loss: 0.0674 - accuracy: 0.9780 - val_loss: 0.8940 - val_accuracy: 0.7370\n",
            "Epoch 28/100\n",
            "100/100 - 106s - loss: 0.0616 - accuracy: 0.9830 - val_loss: 0.8000 - val_accuracy: 0.7480\n",
            "Epoch 29/100\n",
            "100/100 - 106s - loss: 0.0525 - accuracy: 0.9855 - val_loss: 0.8207 - val_accuracy: 0.7540\n",
            "Epoch 30/100\n",
            "100/100 - 106s - loss: 0.0466 - accuracy: 0.9860 - val_loss: 0.8984 - val_accuracy: 0.7630\n",
            "Epoch 31/100\n",
            "100/100 - 106s - loss: 0.0379 - accuracy: 0.9920 - val_loss: 0.9096 - val_accuracy: 0.7690\n",
            "Epoch 32/100\n",
            "100/100 - 106s - loss: 0.0300 - accuracy: 0.9930 - val_loss: 1.0126 - val_accuracy: 0.7590\n",
            "Epoch 33/100\n",
            "100/100 - 106s - loss: 0.0291 - accuracy: 0.9935 - val_loss: 0.9616 - val_accuracy: 0.7510\n",
            "Epoch 34/100\n",
            "100/100 - 107s - loss: 0.0286 - accuracy: 0.9915 - val_loss: 1.0462 - val_accuracy: 0.7500\n",
            "Epoch 35/100\n",
            "100/100 - 107s - loss: 0.0175 - accuracy: 0.9955 - val_loss: 1.2447 - val_accuracy: 0.7570\n",
            "Epoch 36/100\n",
            "100/100 - 107s - loss: 0.0231 - accuracy: 0.9950 - val_loss: 1.2355 - val_accuracy: 0.7510\n",
            "Epoch 37/100\n",
            "100/100 - 106s - loss: 0.0206 - accuracy: 0.9920 - val_loss: 1.0540 - val_accuracy: 0.7500\n",
            "Epoch 38/100\n",
            "100/100 - 107s - loss: 0.0149 - accuracy: 0.9965 - val_loss: 1.0982 - val_accuracy: 0.7540\n",
            "Epoch 39/100\n",
            "100/100 - 106s - loss: 0.0163 - accuracy: 0.9955 - val_loss: 1.1431 - val_accuracy: 0.7580\n",
            "Epoch 40/100\n",
            "100/100 - 107s - loss: 0.0164 - accuracy: 0.9935 - val_loss: 1.1709 - val_accuracy: 0.7410\n",
            "Epoch 41/100\n",
            "100/100 - 107s - loss: 0.0130 - accuracy: 0.9955 - val_loss: 1.2225 - val_accuracy: 0.7590\n",
            "Epoch 42/100\n",
            "100/100 - 107s - loss: 0.0089 - accuracy: 0.9985 - val_loss: 1.2335 - val_accuracy: 0.7600\n",
            "Epoch 43/100\n",
            "100/100 - 107s - loss: 0.0084 - accuracy: 0.9975 - val_loss: 1.2847 - val_accuracy: 0.7700\n",
            "Epoch 44/100\n",
            "100/100 - 106s - loss: 0.0080 - accuracy: 0.9980 - val_loss: 1.3896 - val_accuracy: 0.7620\n",
            "Epoch 45/100\n",
            "100/100 - 106s - loss: 0.0063 - accuracy: 0.9975 - val_loss: 1.4501 - val_accuracy: 0.7560\n",
            "Epoch 46/100\n",
            "100/100 - 106s - loss: 0.0094 - accuracy: 0.9975 - val_loss: 1.3804 - val_accuracy: 0.7510\n",
            "Epoch 47/100\n",
            "100/100 - 106s - loss: 0.0118 - accuracy: 0.9960 - val_loss: 1.3957 - val_accuracy: 0.7580\n",
            "Epoch 48/100\n",
            "100/100 - 106s - loss: 0.0156 - accuracy: 0.9975 - val_loss: 1.4249 - val_accuracy: 0.7590\n",
            "Epoch 49/100\n",
            "100/100 - 107s - loss: 0.0083 - accuracy: 0.9980 - val_loss: 1.5022 - val_accuracy: 0.7590\n",
            "Epoch 50/100\n",
            "100/100 - 107s - loss: 0.0118 - accuracy: 0.9955 - val_loss: 1.4685 - val_accuracy: 0.7550\n",
            "Epoch 51/100\n",
            "100/100 - 107s - loss: 0.0130 - accuracy: 0.9965 - val_loss: 1.5282 - val_accuracy: 0.7430\n",
            "Epoch 52/100\n",
            "100/100 - 106s - loss: 0.0147 - accuracy: 0.9955 - val_loss: 1.5522 - val_accuracy: 0.7580\n",
            "Epoch 53/100\n",
            "100/100 - 106s - loss: 0.0093 - accuracy: 0.9950 - val_loss: 1.5503 - val_accuracy: 0.7580\n",
            "Epoch 54/100\n",
            "100/100 - 106s - loss: 0.0060 - accuracy: 0.9980 - val_loss: 1.5864 - val_accuracy: 0.7500\n",
            "Epoch 55/100\n",
            "100/100 - 106s - loss: 0.0076 - accuracy: 0.9960 - val_loss: 1.7217 - val_accuracy: 0.7420\n",
            "Epoch 56/100\n",
            "100/100 - 107s - loss: 0.0014 - accuracy: 1.0000 - val_loss: 1.6289 - val_accuracy: 0.7500\n",
            "Epoch 57/100\n",
            "100/100 - 106s - loss: 0.0071 - accuracy: 0.9980 - val_loss: 1.7276 - val_accuracy: 0.7190\n",
            "Epoch 58/100\n",
            "100/100 - 106s - loss: 0.0043 - accuracy: 0.9990 - val_loss: 2.1485 - val_accuracy: 0.7100\n",
            "Epoch 59/100\n",
            "100/100 - 106s - loss: 0.0075 - accuracy: 0.9975 - val_loss: 1.7309 - val_accuracy: 0.7520\n",
            "Epoch 60/100\n",
            "100/100 - 106s - loss: 0.0056 - accuracy: 0.9980 - val_loss: 1.6721 - val_accuracy: 0.7560\n",
            "Epoch 61/100\n",
            "100/100 - 106s - loss: 0.0041 - accuracy: 0.9985 - val_loss: 1.6647 - val_accuracy: 0.7570\n",
            "Epoch 62/100\n",
            "100/100 - 106s - loss: 0.0125 - accuracy: 0.9980 - val_loss: 1.7490 - val_accuracy: 0.7510\n",
            "Epoch 63/100\n",
            "100/100 - 107s - loss: 0.0025 - accuracy: 0.9990 - val_loss: 1.8403 - val_accuracy: 0.7550\n",
            "Epoch 64/100\n",
            "100/100 - 107s - loss: 0.0128 - accuracy: 0.9980 - val_loss: 1.8144 - val_accuracy: 0.7460\n",
            "Epoch 65/100\n",
            "100/100 - 107s - loss: 0.0034 - accuracy: 0.9990 - val_loss: 1.9571 - val_accuracy: 0.7510\n",
            "Epoch 66/100\n",
            "100/100 - 106s - loss: 0.0095 - accuracy: 0.9975 - val_loss: 1.8511 - val_accuracy: 0.7460\n",
            "Epoch 67/100\n",
            "100/100 - 106s - loss: 0.0040 - accuracy: 0.9990 - val_loss: 1.8988 - val_accuracy: 0.7530\n",
            "Epoch 68/100\n",
            "100/100 - 108s - loss: 1.5132e-04 - accuracy: 1.0000 - val_loss: 2.0693 - val_accuracy: 0.7350\n",
            "Epoch 69/100\n",
            "100/100 - 107s - loss: 0.0020 - accuracy: 0.9995 - val_loss: 1.9809 - val_accuracy: 0.7650\n",
            "Epoch 70/100\n",
            "100/100 - 107s - loss: 0.0120 - accuracy: 0.9965 - val_loss: 1.9647 - val_accuracy: 0.7550\n",
            "Epoch 71/100\n",
            "100/100 - 107s - loss: 0.0047 - accuracy: 0.9980 - val_loss: 1.9266 - val_accuracy: 0.7610\n",
            "Epoch 72/100\n",
            "100/100 - 107s - loss: 0.0061 - accuracy: 0.9965 - val_loss: 1.9570 - val_accuracy: 0.7510\n",
            "Epoch 73/100\n",
            "100/100 - 108s - loss: 0.0040 - accuracy: 0.9975 - val_loss: 1.8858 - val_accuracy: 0.7630\n",
            "Epoch 74/100\n",
            "100/100 - 108s - loss: 0.0039 - accuracy: 0.9990 - val_loss: 2.0679 - val_accuracy: 0.7400\n",
            "Epoch 75/100\n",
            "100/100 - 107s - loss: 3.2074e-04 - accuracy: 1.0000 - val_loss: 2.2834 - val_accuracy: 0.7460\n",
            "Epoch 76/100\n",
            "100/100 - 107s - loss: 0.0022 - accuracy: 0.9990 - val_loss: 2.0922 - val_accuracy: 0.7500\n",
            "Epoch 77/100\n",
            "100/100 - 107s - loss: 0.0086 - accuracy: 0.9970 - val_loss: 2.3358 - val_accuracy: 0.7240\n",
            "Epoch 78/100\n",
            "100/100 - 107s - loss: 4.6876e-04 - accuracy: 1.0000 - val_loss: 2.1313 - val_accuracy: 0.7560\n",
            "Epoch 79/100\n",
            "100/100 - 108s - loss: 0.0048 - accuracy: 0.9985 - val_loss: 2.0650 - val_accuracy: 0.7510\n",
            "Epoch 80/100\n",
            "100/100 - 108s - loss: 0.0045 - accuracy: 0.9980 - val_loss: 2.0159 - val_accuracy: 0.7560\n",
            "Epoch 81/100\n",
            "100/100 - 107s - loss: 0.0046 - accuracy: 0.9985 - val_loss: 2.4290 - val_accuracy: 0.7570\n",
            "Epoch 82/100\n",
            "100/100 - 108s - loss: 4.1835e-04 - accuracy: 1.0000 - val_loss: 2.0603 - val_accuracy: 0.7660\n",
            "Epoch 83/100\n",
            "100/100 - 107s - loss: 0.0110 - accuracy: 0.9970 - val_loss: 2.1680 - val_accuracy: 0.7520\n",
            "Epoch 84/100\n",
            "100/100 - 107s - loss: 0.0012 - accuracy: 0.9995 - val_loss: 2.1446 - val_accuracy: 0.7530\n",
            "Epoch 85/100\n",
            "100/100 - 107s - loss: 0.0078 - accuracy: 0.9990 - val_loss: 2.2455 - val_accuracy: 0.7500\n",
            "Epoch 86/100\n",
            "100/100 - 107s - loss: 0.0043 - accuracy: 0.9985 - val_loss: 2.2145 - val_accuracy: 0.7460\n",
            "Epoch 87/100\n",
            "100/100 - 106s - loss: 3.4029e-04 - accuracy: 1.0000 - val_loss: 2.2781 - val_accuracy: 0.7410\n",
            "Epoch 88/100\n",
            "100/100 - 106s - loss: 0.0055 - accuracy: 0.9980 - val_loss: 2.1735 - val_accuracy: 0.7470\n",
            "Epoch 89/100\n",
            "100/100 - 106s - loss: 0.0019 - accuracy: 0.9985 - val_loss: 2.2541 - val_accuracy: 0.7360\n",
            "Epoch 90/100\n",
            "100/100 - 106s - loss: 0.0041 - accuracy: 0.9980 - val_loss: 4.1382 - val_accuracy: 0.6690\n",
            "Epoch 91/100\n",
            "100/100 - 106s - loss: 0.0023 - accuracy: 0.9995 - val_loss: 2.2713 - val_accuracy: 0.7480\n",
            "Epoch 92/100\n",
            "100/100 - 107s - loss: 0.0086 - accuracy: 0.9980 - val_loss: 2.2927 - val_accuracy: 0.7420\n",
            "Epoch 93/100\n",
            "100/100 - 107s - loss: 3.8819e-04 - accuracy: 1.0000 - val_loss: 4.2755 - val_accuracy: 0.6830\n",
            "Epoch 94/100\n",
            "100/100 - 106s - loss: 0.0076 - accuracy: 0.9990 - val_loss: 2.1082 - val_accuracy: 0.7600\n",
            "Epoch 95/100\n",
            "100/100 - 106s - loss: 0.0043 - accuracy: 0.9995 - val_loss: 2.3517 - val_accuracy: 0.7520\n",
            "Epoch 96/100\n",
            "100/100 - 107s - loss: 0.0159 - accuracy: 0.9955 - val_loss: 2.4380 - val_accuracy: 0.7490\n",
            "Epoch 97/100\n",
            "100/100 - 107s - loss: 0.0027 - accuracy: 0.9995 - val_loss: 2.4005 - val_accuracy: 0.7520\n",
            "Epoch 98/100\n",
            "100/100 - 106s - loss: 6.1088e-04 - accuracy: 1.0000 - val_loss: 2.3495 - val_accuracy: 0.7680\n",
            "Epoch 99/100\n",
            "100/100 - 106s - loss: 4.6591e-04 - accuracy: 1.0000 - val_loss: 2.3856 - val_accuracy: 0.7610\n",
            "Epoch 100/100\n",
            "100/100 - 107s - loss: 6.9803e-04 - accuracy: 1.0000 - val_loss: 2.5123 - val_accuracy: 0.7510\n"
          ],
          "name": "stdout"
        }
      ]
    },
    {
      "cell_type": "code",
      "metadata": {
        "colab": {
          "base_uri": "https://localhost:8080/",
          "height": 357
        },
        "id": "Xfcg9GwedMm9",
        "outputId": "e3e61921-3c94-4e29-b209-eeeb6276c59d"
      },
      "source": [
        "import matplotlib.pyplot as plt\n",
        "acc = history.history['accuracy']\n",
        "val_acc = history.history['val_accuracy']\n",
        "loss = history.history['loss']\n",
        "val_loss = history.history['val_loss']\n",
        "\n",
        "epochs = range(len(acc))\n",
        "\n",
        "plt.plot(epochs, acc, 'bo', label='Training accuracy')\n",
        "plt.plot(epochs, val_acc, 'b', label='Validation accuracy')\n",
        "plt.title('Training and validation accuracy')\n",
        "\n",
        "plt.figure()\n",
        "\n",
        "plt.plot(epochs, loss, 'bo', label='Training Loss')\n",
        "plt.plot(epochs, val_loss, 'b', label='Validation Loss')\n",
        "plt.title('Training and validation loss')\n",
        "plt.legend()\n",
        "\n",
        "plt.show()"
      ],
      "execution_count": null,
      "outputs": [
        {
          "output_type": "stream",
          "text": [
            "Epoch 1/100\n"
          ],
          "name": "stdout"
        },
        {
          "output_type": "error",
          "ename": "KeyboardInterrupt",
          "evalue": "ignored",
          "traceback": [
            "\u001b[0;31m---------------------------------------------------------------------------\u001b[0m",
            "\u001b[0;31mKeyboardInterrupt\u001b[0m                         Traceback (most recent call last)",
            "\u001b[0;32m<ipython-input-8-9ef943bb0d8d>\u001b[0m in \u001b[0;36m<module>\u001b[0;34m()\u001b[0m\n\u001b[1;32m      5\u001b[0m       \u001b[0mvalidation_data\u001b[0m\u001b[0;34m=\u001b[0m\u001b[0mvalidation_generator\u001b[0m\u001b[0;34m,\u001b[0m\u001b[0;34m\u001b[0m\u001b[0;34m\u001b[0m\u001b[0m\n\u001b[1;32m      6\u001b[0m       \u001b[0mvalidation_steps\u001b[0m\u001b[0;34m=\u001b[0m\u001b[0;36m50\u001b[0m\u001b[0;34m,\u001b[0m\u001b[0;34m\u001b[0m\u001b[0;34m\u001b[0m\u001b[0m\n\u001b[0;32m----> 7\u001b[0;31m       verbose=2)\n\u001b[0m",
            "\u001b[0;32m/usr/local/lib/python3.7/dist-packages/tensorflow/python/keras/engine/training.py\u001b[0m in \u001b[0;36mfit\u001b[0;34m(self, x, y, batch_size, epochs, verbose, callbacks, validation_split, validation_data, shuffle, class_weight, sample_weight, initial_epoch, steps_per_epoch, validation_steps, validation_batch_size, validation_freq, max_queue_size, workers, use_multiprocessing)\u001b[0m\n\u001b[1;32m   1181\u001b[0m                 _r=1):\n\u001b[1;32m   1182\u001b[0m               \u001b[0mcallbacks\u001b[0m\u001b[0;34m.\u001b[0m\u001b[0mon_train_batch_begin\u001b[0m\u001b[0;34m(\u001b[0m\u001b[0mstep\u001b[0m\u001b[0;34m)\u001b[0m\u001b[0;34m\u001b[0m\u001b[0;34m\u001b[0m\u001b[0m\n\u001b[0;32m-> 1183\u001b[0;31m               \u001b[0mtmp_logs\u001b[0m \u001b[0;34m=\u001b[0m \u001b[0mself\u001b[0m\u001b[0;34m.\u001b[0m\u001b[0mtrain_function\u001b[0m\u001b[0;34m(\u001b[0m\u001b[0miterator\u001b[0m\u001b[0;34m)\u001b[0m\u001b[0;34m\u001b[0m\u001b[0;34m\u001b[0m\u001b[0m\n\u001b[0m\u001b[1;32m   1184\u001b[0m               \u001b[0;32mif\u001b[0m \u001b[0mdata_handler\u001b[0m\u001b[0;34m.\u001b[0m\u001b[0mshould_sync\u001b[0m\u001b[0;34m:\u001b[0m\u001b[0;34m\u001b[0m\u001b[0;34m\u001b[0m\u001b[0m\n\u001b[1;32m   1185\u001b[0m                 \u001b[0mcontext\u001b[0m\u001b[0;34m.\u001b[0m\u001b[0masync_wait\u001b[0m\u001b[0;34m(\u001b[0m\u001b[0;34m)\u001b[0m\u001b[0;34m\u001b[0m\u001b[0;34m\u001b[0m\u001b[0m\n",
            "\u001b[0;32m/usr/local/lib/python3.7/dist-packages/tensorflow/python/eager/def_function.py\u001b[0m in \u001b[0;36m__call__\u001b[0;34m(self, *args, **kwds)\u001b[0m\n\u001b[1;32m    887\u001b[0m \u001b[0;34m\u001b[0m\u001b[0m\n\u001b[1;32m    888\u001b[0m       \u001b[0;32mwith\u001b[0m \u001b[0mOptionalXlaContext\u001b[0m\u001b[0;34m(\u001b[0m\u001b[0mself\u001b[0m\u001b[0;34m.\u001b[0m\u001b[0m_jit_compile\u001b[0m\u001b[0;34m)\u001b[0m\u001b[0;34m:\u001b[0m\u001b[0;34m\u001b[0m\u001b[0;34m\u001b[0m\u001b[0m\n\u001b[0;32m--> 889\u001b[0;31m         \u001b[0mresult\u001b[0m \u001b[0;34m=\u001b[0m \u001b[0mself\u001b[0m\u001b[0;34m.\u001b[0m\u001b[0m_call\u001b[0m\u001b[0;34m(\u001b[0m\u001b[0;34m*\u001b[0m\u001b[0margs\u001b[0m\u001b[0;34m,\u001b[0m \u001b[0;34m**\u001b[0m\u001b[0mkwds\u001b[0m\u001b[0;34m)\u001b[0m\u001b[0;34m\u001b[0m\u001b[0;34m\u001b[0m\u001b[0m\n\u001b[0m\u001b[1;32m    890\u001b[0m \u001b[0;34m\u001b[0m\u001b[0m\n\u001b[1;32m    891\u001b[0m       \u001b[0mnew_tracing_count\u001b[0m \u001b[0;34m=\u001b[0m \u001b[0mself\u001b[0m\u001b[0;34m.\u001b[0m\u001b[0mexperimental_get_tracing_count\u001b[0m\u001b[0;34m(\u001b[0m\u001b[0;34m)\u001b[0m\u001b[0;34m\u001b[0m\u001b[0;34m\u001b[0m\u001b[0m\n",
            "\u001b[0;32m/usr/local/lib/python3.7/dist-packages/tensorflow/python/eager/def_function.py\u001b[0m in \u001b[0;36m_call\u001b[0;34m(self, *args, **kwds)\u001b[0m\n\u001b[1;32m    915\u001b[0m       \u001b[0;31m# In this case we have created variables on the first call, so we run the\u001b[0m\u001b[0;34m\u001b[0m\u001b[0;34m\u001b[0m\u001b[0;34m\u001b[0m\u001b[0m\n\u001b[1;32m    916\u001b[0m       \u001b[0;31m# defunned version which is guaranteed to never create variables.\u001b[0m\u001b[0;34m\u001b[0m\u001b[0;34m\u001b[0m\u001b[0;34m\u001b[0m\u001b[0m\n\u001b[0;32m--> 917\u001b[0;31m       \u001b[0;32mreturn\u001b[0m \u001b[0mself\u001b[0m\u001b[0;34m.\u001b[0m\u001b[0m_stateless_fn\u001b[0m\u001b[0;34m(\u001b[0m\u001b[0;34m*\u001b[0m\u001b[0margs\u001b[0m\u001b[0;34m,\u001b[0m \u001b[0;34m**\u001b[0m\u001b[0mkwds\u001b[0m\u001b[0;34m)\u001b[0m  \u001b[0;31m# pylint: disable=not-callable\u001b[0m\u001b[0;34m\u001b[0m\u001b[0;34m\u001b[0m\u001b[0m\n\u001b[0m\u001b[1;32m    918\u001b[0m     \u001b[0;32melif\u001b[0m \u001b[0mself\u001b[0m\u001b[0;34m.\u001b[0m\u001b[0m_stateful_fn\u001b[0m \u001b[0;32mis\u001b[0m \u001b[0;32mnot\u001b[0m \u001b[0;32mNone\u001b[0m\u001b[0;34m:\u001b[0m\u001b[0;34m\u001b[0m\u001b[0;34m\u001b[0m\u001b[0m\n\u001b[1;32m    919\u001b[0m       \u001b[0;31m# Release the lock early so that multiple threads can perform the call\u001b[0m\u001b[0;34m\u001b[0m\u001b[0;34m\u001b[0m\u001b[0;34m\u001b[0m\u001b[0m\n",
            "\u001b[0;32m/usr/local/lib/python3.7/dist-packages/tensorflow/python/eager/function.py\u001b[0m in \u001b[0;36m__call__\u001b[0;34m(self, *args, **kwargs)\u001b[0m\n\u001b[1;32m   3022\u001b[0m        filtered_flat_args) = self._maybe_define_function(args, kwargs)\n\u001b[1;32m   3023\u001b[0m     return graph_function._call_flat(\n\u001b[0;32m-> 3024\u001b[0;31m         filtered_flat_args, captured_inputs=graph_function.captured_inputs)  # pylint: disable=protected-access\n\u001b[0m\u001b[1;32m   3025\u001b[0m \u001b[0;34m\u001b[0m\u001b[0m\n\u001b[1;32m   3026\u001b[0m   \u001b[0;34m@\u001b[0m\u001b[0mproperty\u001b[0m\u001b[0;34m\u001b[0m\u001b[0;34m\u001b[0m\u001b[0m\n",
            "\u001b[0;32m/usr/local/lib/python3.7/dist-packages/tensorflow/python/eager/function.py\u001b[0m in \u001b[0;36m_call_flat\u001b[0;34m(self, args, captured_inputs, cancellation_manager)\u001b[0m\n\u001b[1;32m   1959\u001b[0m       \u001b[0;31m# No tape is watching; skip to running the function.\u001b[0m\u001b[0;34m\u001b[0m\u001b[0;34m\u001b[0m\u001b[0;34m\u001b[0m\u001b[0m\n\u001b[1;32m   1960\u001b[0m       return self._build_call_outputs(self._inference_function.call(\n\u001b[0;32m-> 1961\u001b[0;31m           ctx, args, cancellation_manager=cancellation_manager))\n\u001b[0m\u001b[1;32m   1962\u001b[0m     forward_backward = self._select_forward_and_backward_functions(\n\u001b[1;32m   1963\u001b[0m         \u001b[0margs\u001b[0m\u001b[0;34m,\u001b[0m\u001b[0;34m\u001b[0m\u001b[0;34m\u001b[0m\u001b[0m\n",
            "\u001b[0;32m/usr/local/lib/python3.7/dist-packages/tensorflow/python/eager/function.py\u001b[0m in \u001b[0;36mcall\u001b[0;34m(self, ctx, args, cancellation_manager)\u001b[0m\n\u001b[1;32m    594\u001b[0m               \u001b[0minputs\u001b[0m\u001b[0;34m=\u001b[0m\u001b[0margs\u001b[0m\u001b[0;34m,\u001b[0m\u001b[0;34m\u001b[0m\u001b[0;34m\u001b[0m\u001b[0m\n\u001b[1;32m    595\u001b[0m               \u001b[0mattrs\u001b[0m\u001b[0;34m=\u001b[0m\u001b[0mattrs\u001b[0m\u001b[0;34m,\u001b[0m\u001b[0;34m\u001b[0m\u001b[0;34m\u001b[0m\u001b[0m\n\u001b[0;32m--> 596\u001b[0;31m               ctx=ctx)\n\u001b[0m\u001b[1;32m    597\u001b[0m         \u001b[0;32melse\u001b[0m\u001b[0;34m:\u001b[0m\u001b[0;34m\u001b[0m\u001b[0;34m\u001b[0m\u001b[0m\n\u001b[1;32m    598\u001b[0m           outputs = execute.execute_with_cancellation(\n",
            "\u001b[0;32m/usr/local/lib/python3.7/dist-packages/tensorflow/python/eager/execute.py\u001b[0m in \u001b[0;36mquick_execute\u001b[0;34m(op_name, num_outputs, inputs, attrs, ctx, name)\u001b[0m\n\u001b[1;32m     58\u001b[0m     \u001b[0mctx\u001b[0m\u001b[0;34m.\u001b[0m\u001b[0mensure_initialized\u001b[0m\u001b[0;34m(\u001b[0m\u001b[0;34m)\u001b[0m\u001b[0;34m\u001b[0m\u001b[0;34m\u001b[0m\u001b[0m\n\u001b[1;32m     59\u001b[0m     tensors = pywrap_tfe.TFE_Py_Execute(ctx._handle, device_name, op_name,\n\u001b[0;32m---> 60\u001b[0;31m                                         inputs, attrs, num_outputs)\n\u001b[0m\u001b[1;32m     61\u001b[0m   \u001b[0;32mexcept\u001b[0m \u001b[0mcore\u001b[0m\u001b[0;34m.\u001b[0m\u001b[0m_NotOkStatusException\u001b[0m \u001b[0;32mas\u001b[0m \u001b[0me\u001b[0m\u001b[0;34m:\u001b[0m\u001b[0;34m\u001b[0m\u001b[0;34m\u001b[0m\u001b[0m\n\u001b[1;32m     62\u001b[0m     \u001b[0;32mif\u001b[0m \u001b[0mname\u001b[0m \u001b[0;32mis\u001b[0m \u001b[0;32mnot\u001b[0m \u001b[0;32mNone\u001b[0m\u001b[0;34m:\u001b[0m\u001b[0;34m\u001b[0m\u001b[0;34m\u001b[0m\u001b[0m\n",
            "\u001b[0;31mKeyboardInterrupt\u001b[0m: "
          ]
        }
      ]
    },
    {
      "cell_type": "code",
      "metadata": {
        "id": "Mv_IkM_udPo8"
      },
      "source": [
        "train_datagen = ImageDataGenerator(\n",
        "      rescale=1./255,\n",
        "      rotation_range=40,\n",
        "      width_shift_range=0.2,\n",
        "      height_shift_range=0.2,\n",
        "      shear_range=0.2,\n",
        "      zoom_range=0.2,\n",
        "      horizontal_flip=True,\n",
        "      fill_mode='nearest')\n",
        "\n",
        "test_datagen = ImageDataGenerator(rescale=1./255)\n",
        "\n",
        "# Flow training images in batches of 20 using train_datagen generator\n",
        "train_generator = train_datagen.flow_from_directory(\n",
        "        train_dir,  # This is the source directory for training images\n",
        "        target_size=(150, 150),  # All images will be resized to 150x150\n",
        "        batch_size=20,\n",
        "        # Since we use binary_crossentropy loss, we need binary labels\n",
        "        class_mode='binary')\n",
        "\n",
        "# Flow validation images in batches of 20 using test_datagen generator\n",
        "validation_generator = test_datagen.flow_from_directory(\n",
        "        validation_dir,\n",
        "        target_size=(150, 150),\n",
        "        batch_size=20,\n",
        "        class_mode='binary')\n",
        "\n",
        "history = model.fit(\n",
        "      train_generator,\n",
        "      steps_per_epoch=100,  # 2000 images = batch_size * steps\n",
        "      epochs=100,\n",
        "      validation_data=validation_generator,\n",
        "      validation_steps=50,  # 1000 images = batch_size * steps\n",
        "      verbose=2)"
      ],
      "execution_count": null,
      "outputs": []
    },
    {
      "cell_type": "code",
      "metadata": {
        "id": "0PayLAGjd_k4"
      },
      "source": [
        "import matplotlib.pyplot as plt\n",
        "acc = history.history['accuracy']\n",
        "val_acc = history.history['val_accuracy']\n",
        "loss = history.history['loss']\n",
        "val_loss = history.history['val_loss']\n",
        "\n",
        "epochs = range(len(acc))\n",
        "\n",
        "plt.plot(epochs, acc, 'bo', label='Training accuracy')\n",
        "plt.plot(epochs, val_acc, 'b', label='Validation accuracy')\n",
        "plt.title('Training and validation accuracy')\n",
        "\n",
        "plt.figure()\n",
        "\n",
        "plt.plot(epochs, loss, 'bo', label='Training Loss')\n",
        "plt.plot(epochs, val_loss, 'b', label='Validation Loss')\n",
        "plt.title('Training and validation loss')\n",
        "plt.legend()\n",
        "\n",
        "plt.show()"
      ],
      "execution_count": null,
      "outputs": []
    },
    {
      "cell_type": "code",
      "metadata": {
        "id": "jIJXwlQVeELa"
      },
      "source": [
        ""
      ],
      "execution_count": null,
      "outputs": []
    }
  ]
}