{
  "nbformat": 4,
  "nbformat_minor": 0,
  "metadata": {
    "colab": {
      "name": "transform.ipynb",
      "provenance": [],
      "authorship_tag": "ABX9TyMYsavz/XQkYSBbxsPPZlUV",
      "include_colab_link": true
    },
    "kernelspec": {
      "display_name": "Python 3",
      "name": "python3"
    },
    "language_info": {
      "name": "python"
    }
  },
  "cells": [
    {
      "cell_type": "markdown",
      "metadata": {
        "id": "view-in-github",
        "colab_type": "text"
      },
      "source": [
        "<a href=\"https://colab.research.google.com/github/aidawm/new_repo/blob/main/transform.ipynb\" target=\"_parent\"><img src=\"https://colab.research.google.com/assets/colab-badge.svg\" alt=\"Open In Colab\"/></a>"
      ]
    },
    {
      "cell_type": "code",
      "metadata": {
        "colab": {
          "base_uri": "https://localhost:8080/"
        },
        "id": "dJfWS60VvUqA",
        "outputId": "a9f51352-6dab-4123-8ee1-4ca7b1fd1768"
      },
      "source": [
        "import os\n",
        "\n",
        "from tensorflow.keras import layers\n",
        "from tensorflow.keras import Model\n",
        "!wget --no-check-certificate \\\n",
        "    https://storage.googleapis.com/mledu-datasets/inception_v3_weights_tf_dim_ordering_tf_kernels_notop.h5 \\\n",
        "    -O /tmp/inception_v3_weights_tf_dim_ordering_tf_kernels_notop.h5\n",
        "  \n",
        "from tensorflow.keras.applications.inception_v3 import InceptionV3"
      ],
      "execution_count": 2,
      "outputs": [
        {
          "output_type": "stream",
          "text": [
            "--2021-05-28 05:17:30--  https://storage.googleapis.com/mledu-datasets/inception_v3_weights_tf_dim_ordering_tf_kernels_notop.h5\n",
            "Resolving storage.googleapis.com (storage.googleapis.com)... 108.177.13.128, 74.125.31.128, 74.125.141.128, ...\n",
            "Connecting to storage.googleapis.com (storage.googleapis.com)|108.177.13.128|:443... connected.\n",
            "HTTP request sent, awaiting response... 200 OK\n",
            "Length: 87910968 (84M) [application/x-hdf]\n",
            "Saving to: ‘/tmp/inception_v3_weights_tf_dim_ordering_tf_kernels_notop.h5’\n",
            "\n",
            "/tmp/inception_v3_w 100%[===================>]  83.84M   118MB/s    in 0.7s    \n",
            "\n",
            "2021-05-28 05:17:31 (118 MB/s) - ‘/tmp/inception_v3_weights_tf_dim_ordering_tf_kernels_notop.h5’ saved [87910968/87910968]\n",
            "\n"
          ],
          "name": "stdout"
        }
      ]
    },
    {
      "cell_type": "code",
      "metadata": {
        "colab": {
          "base_uri": "https://localhost:8080/"
        },
        "id": "Ark7sQkfvgOL",
        "outputId": "547da580-7161-43d9-d9ee-20e213982fe6"
      },
      "source": [
        "local_weight_file = '/tmp/inception_v3_weights_tf_dim_ordering_tf_kernels_notop.h5'\n",
        "\n",
        "\n",
        "pre_trained_model = InceptionV3(input_shape=(150,150,3),include_top=False,weights=None)\n",
        "pre_trained_model.load_weights(local_weight_file)\n",
        "\n",
        "for layer in pre_trained_model.layers:\n",
        "  layer.trainable = False\n",
        "\n",
        "last_layer = pre_trained_model.get_layer('mixed7')\n",
        "print('last layer output shape: ', last_layer.output_shape)\n",
        "last_output = last_layer.output\n"
      ],
      "execution_count": 3,
      "outputs": [
        {
          "output_type": "stream",
          "text": [
            "last layer output shape:  (None, 7, 7, 768)\n"
          ],
          "name": "stdout"
        }
      ]
    },
    {
      "cell_type": "code",
      "metadata": {
        "id": "zOp22O78vwtX",
        "colab": {
          "base_uri": "https://localhost:8080/"
        },
        "outputId": "c35a5354-13f0-449d-a8e5-1b54e6cea9c4"
      },
      "source": [
        "from tensorflow.keras.optimizers import RMSprop\n",
        "\n",
        "x= layers.Flatten()(last_output)\n",
        "x=layers.Dense(1024,activation='relu')(x)\n",
        "x=layers.Dropout(0.2)(x)\n",
        "x=layers.Dense(1,activation='sigmoid')(x)\n",
        "\n",
        "model = Model(pre_trained_model.input,x)\n",
        "\n",
        "model.compile(optimizer = RMSprop(lr=0.0001), \n",
        "              loss = 'binary_crossentropy', \n",
        "              metrics = ['accuracy'])\n",
        "\n",
        "\n"
      ],
      "execution_count": 4,
      "outputs": [
        {
          "output_type": "stream",
          "text": [
            "/usr/local/lib/python3.7/dist-packages/tensorflow/python/keras/optimizer_v2/optimizer_v2.py:375: UserWarning: The `lr` argument is deprecated, use `learning_rate` instead.\n",
            "  \"The `lr` argument is deprecated, use `learning_rate` instead.\")\n"
          ],
          "name": "stderr"
        }
      ]
    },
    {
      "cell_type": "code",
      "metadata": {
        "colab": {
          "base_uri": "https://localhost:8080/"
        },
        "id": "STQQprIyH9cK",
        "outputId": "47febbb5-d26a-47fa-a466-832ed08c0917"
      },
      "source": [
        "!wget --no-check-certificate \\\n",
        "    https://storage.googleapis.com/laurencemoroney-blog.appspot.com/horse-or-human.zip \\\n",
        "    -O /tmp/horse-or-human.zip\n",
        "\n",
        "!wget --no-check-certificate \\\n",
        "    https://storage.googleapis.com/laurencemoroney-blog.appspot.com/validation-horse-or-human.zip \\\n",
        "    -O /tmp/validation-horse-or-human.zip"
      ],
      "execution_count": 5,
      "outputs": [
        {
          "output_type": "stream",
          "text": [
            "--2021-05-28 05:17:39--  https://storage.googleapis.com/laurencemoroney-blog.appspot.com/horse-or-human.zip\n",
            "Resolving storage.googleapis.com (storage.googleapis.com)... 173.194.210.128, 173.194.211.128, 173.194.213.128, ...\n",
            "Connecting to storage.googleapis.com (storage.googleapis.com)|173.194.210.128|:443... connected.\n",
            "HTTP request sent, awaiting response... 200 OK\n",
            "Length: 149574867 (143M) [application/zip]\n",
            "Saving to: ‘/tmp/horse-or-human.zip’\n",
            "\n",
            "/tmp/horse-or-human 100%[===================>] 142.65M   123MB/s    in 1.2s    \n",
            "\n",
            "2021-05-28 05:17:40 (123 MB/s) - ‘/tmp/horse-or-human.zip’ saved [149574867/149574867]\n",
            "\n",
            "--2021-05-28 05:17:40--  https://storage.googleapis.com/laurencemoroney-blog.appspot.com/validation-horse-or-human.zip\n",
            "Resolving storage.googleapis.com (storage.googleapis.com)... 74.125.26.128, 172.217.193.128, 172.217.204.128, ...\n",
            "Connecting to storage.googleapis.com (storage.googleapis.com)|74.125.26.128|:443... connected.\n",
            "HTTP request sent, awaiting response... 200 OK\n",
            "Length: 11480187 (11M) [application/zip]\n",
            "Saving to: ‘/tmp/validation-horse-or-human.zip’\n",
            "\n",
            "/tmp/validation-hor 100%[===================>]  10.95M  --.-KB/s    in 0.1s    \n",
            "\n",
            "2021-05-28 05:17:41 (86.3 MB/s) - ‘/tmp/validation-horse-or-human.zip’ saved [11480187/11480187]\n",
            "\n"
          ],
          "name": "stdout"
        }
      ]
    },
    {
      "cell_type": "code",
      "metadata": {
        "colab": {
          "base_uri": "https://localhost:8080/"
        },
        "id": "gAmPz5910vtd",
        "outputId": "44dc0ca0-d8db-4b15-ed65-2920dd12aced"
      },
      "source": [
        "import zipfile\n",
        "from tensorflow.keras.preprocessing.image import ImageDataGenerator\n",
        "\n",
        "local_zip = '/tmp/horse-or-human.zip'\n",
        "zip_ref=  zipfile.ZipFile(local_zip, 'r')\n",
        "zip_ref.extractall('/tmp/horse-or-human')\n",
        "zip_ref.close()\n",
        "\n",
        "\n",
        "local_zip = '/tmp/validation-horse-or-human.zip'\n",
        "zip_ref=  zipfile.ZipFile(local_zip, 'r')\n",
        "zip_ref.extractall('/tmp/validation-horse-or-human')\n",
        "zip_ref.close()\n",
        "\n",
        "train_horse = os.path.join('/tmp/horse-or-human/horses')\n",
        "train_human = os.path.join('/tmp/horse-or-human/humans')\n",
        "valid_horse = os.path.join('/tmp/validation-horse-or-human/horses')\n",
        "valid_human = os.path.join('/tmp/validation-horse-or-human/humans')\n",
        "#type = str\n",
        "\n",
        "train_horse_name = os.listdir(train_horse)\n",
        "train_human_name = os.listdir(train_human)\n",
        "valid_horse_name = os.listdir(valid_horse)\n",
        "valid_human_name = os.listdir(valid_human)\n",
        "#type = list\n",
        "\n",
        "\n",
        "train_datagen = ImageDataGenerator(rescale=1/255,\n",
        "                                   rotation_range = 40,\n",
        "                                   width_shift_range = 0.2,\n",
        "                                   height_shift_range = 0.2,\n",
        "                                   shear_range = 0.2,\n",
        "                                   zoom_range = 0.2,\n",
        "                                   horizontal_flip = True)\n",
        "\n",
        "valid_datagen = ImageDataGenerator(rescale=1/255)\n",
        "\n",
        "train_generator = train_datagen.flow_from_directory('/tmp/horse-or-human/',target_size=(150,150),batch_size=128,class_mode='binary',)\n",
        "valid_generator = valid_datagen.flow_from_directory('/tmp/validation-horse-or-human/',target_size=(150,150),batch_size=32,class_mode='binary')"
      ],
      "execution_count": 21,
      "outputs": [
        {
          "output_type": "stream",
          "text": [
            "Found 1027 images belonging to 2 classes.\n",
            "Found 256 images belonging to 2 classes.\n"
          ],
          "name": "stdout"
        }
      ]
    },
    {
      "cell_type": "code",
      "metadata": {
        "colab": {
          "base_uri": "https://localhost:8080/"
        },
        "id": "dK-_y44b1ePy",
        "outputId": "a67f7007-6ed6-4a1b-d564-8cd048469c63"
      },
      "source": [
        "history=model.fit(train_generator,steps_per_epoch=8,epochs=15,verbose=1,validation_data=valid_generator,validation_steps=8)"
      ],
      "execution_count": 22,
      "outputs": [
        {
          "output_type": "stream",
          "text": [
            "Epoch 1/15\n",
            "8/8 [==============================] - 55s 7s/step - loss: 0.7148 - accuracy: 0.7753 - val_loss: 0.0564 - val_accuracy: 0.9688\n",
            "Epoch 2/15\n",
            "8/8 [==============================] - 54s 7s/step - loss: 0.0476 - accuracy: 0.9855 - val_loss: 0.0445 - val_accuracy: 0.9766\n",
            "Epoch 3/15\n",
            "8/8 [==============================] - 53s 8s/step - loss: 0.0544 - accuracy: 0.9800 - val_loss: 0.0093 - val_accuracy: 0.9961\n",
            "Epoch 4/15\n",
            "8/8 [==============================] - 53s 7s/step - loss: 0.0256 - accuracy: 0.9900 - val_loss: 0.0048 - val_accuracy: 1.0000\n",
            "Epoch 5/15\n",
            "8/8 [==============================] - 53s 7s/step - loss: 0.0224 - accuracy: 0.9944 - val_loss: 0.0128 - val_accuracy: 0.9922\n",
            "Epoch 6/15\n",
            "8/8 [==============================] - 53s 7s/step - loss: 0.0249 - accuracy: 0.9900 - val_loss: 0.4457 - val_accuracy: 0.8945\n",
            "Epoch 7/15\n",
            "8/8 [==============================] - 53s 7s/step - loss: 0.0813 - accuracy: 0.9733 - val_loss: 0.0110 - val_accuracy: 0.9922\n",
            "Epoch 8/15\n",
            "8/8 [==============================] - 54s 7s/step - loss: 0.0088 - accuracy: 0.9967 - val_loss: 0.0059 - val_accuracy: 0.9961\n",
            "Epoch 9/15\n",
            "8/8 [==============================] - 53s 7s/step - loss: 0.0063 - accuracy: 0.9978 - val_loss: 0.0197 - val_accuracy: 0.9922\n",
            "Epoch 10/15\n",
            "8/8 [==============================] - 54s 7s/step - loss: 0.0065 - accuracy: 0.9978 - val_loss: 0.0034 - val_accuracy: 1.0000\n",
            "Epoch 11/15\n",
            "8/8 [==============================] - 54s 7s/step - loss: 0.0086 - accuracy: 0.9967 - val_loss: 9.7816e-04 - val_accuracy: 1.0000\n",
            "Epoch 12/15\n",
            "8/8 [==============================] - 53s 7s/step - loss: 0.0149 - accuracy: 0.9967 - val_loss: 0.0176 - val_accuracy: 0.9922\n",
            "Epoch 13/15\n",
            "8/8 [==============================] - 53s 7s/step - loss: 0.0020 - accuracy: 1.0000 - val_loss: 0.0127 - val_accuracy: 0.9961\n",
            "Epoch 14/15\n",
            "8/8 [==============================] - 53s 7s/step - loss: 0.0383 - accuracy: 0.9878 - val_loss: 0.0095 - val_accuracy: 0.9961\n",
            "Epoch 15/15\n",
            "8/8 [==============================] - 54s 7s/step - loss: 0.0044 - accuracy: 0.9989 - val_loss: 0.0124 - val_accuracy: 0.9961\n"
          ],
          "name": "stdout"
        }
      ]
    },
    {
      "cell_type": "code",
      "metadata": {
        "id": "D7tjCp9u1fAQ",
        "colab": {
          "base_uri": "https://localhost:8080/",
          "height": 298
        },
        "outputId": "8d40e015-77ba-4615-c530-11f73916e9c1"
      },
      "source": [
        "import matplotlib.pyplot as plt\n",
        "acc = history.history['accuracy']\n",
        "val_acc = history.history['val_accuracy']\n",
        "loss = history.history['loss']\n",
        "val_loss = history.history['val_loss']\n",
        "\n",
        "epochs = range(len(acc))\n",
        "\n",
        "plt.plot(epochs, acc, 'r', label='Training accuracy')\n",
        "plt.plot(epochs, val_acc, 'b', label='Validation accuracy')\n",
        "plt.title('Training and validation accuracy')\n",
        "plt.legend(loc=0)\n",
        "plt.figure()\n",
        "\n",
        "\n",
        "plt.show()"
      ],
      "execution_count": 23,
      "outputs": [
        {
          "output_type": "display_data",
          "data": {
            "image/png": "[encoded data removed]",
            "text/plain": [
              "<Figure size 432x288 with 1 Axes>"
            ]
          },
          "metadata": {
            "tags": [],
            "needs_background": "light"
          }
        },
        {
          "output_type": "display_data",
          "data": {
            "text/plain": [
              "<Figure size 432x288 with 0 Axes>"
            ]
          },
          "metadata": {
            "tags": []
          }
        }
      ]
    }
  ]
}