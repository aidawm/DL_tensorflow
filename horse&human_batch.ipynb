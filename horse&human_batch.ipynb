{
  "nbformat": 4,
  "nbformat_minor": 0,
  "metadata": {
    "colab": {
      "name": "horse&human-batch.ipynb",
      "provenance": [],
      "authorship_tag": "ABX9TyO9ObiK4/4ntaE2H2hoPR0j",
      "include_colab_link": true
    },
    "kernelspec": {
      "name": "python3",
      "display_name": "Python 3"
    },
    "language_info": {
      "name": "python"
    }
  },
  "cells": [
    {
      "cell_type": "markdown",
      "metadata": {
        "id": "view-in-github",
        "colab_type": "text"
      },
      "source": [
        "<a href=\"https://colab.research.google.com/github/aidawm/new_repo/blob/main/horse%26human_batch.ipynb\" target=\"_parent\"><img src=\"https://colab.research.google.com/assets/colab-badge.svg\" alt=\"Open In Colab\"/></a>"
      ]
    },
    {
      "cell_type": "code",
      "metadata": {
        "colab": {
          "base_uri": "https://localhost:8080/"
        },
        "id": "E54uCN5TWseC",
        "outputId": "acdad8ad-3803-4d61-e69d-0e30ce6e5962"
      },
      "source": [
        "!wget --no-check-certificate \\\n",
        "    https://storage.googleapis.com/laurencemoroney-blog.appspot.com/horse-or-human.zip \\\n",
        "    -O /tmp/horse-or-human.zip\n",
        "\n",
        "!wget --no-check-certificate \\\n",
        "    https://storage.googleapis.com/laurencemoroney-blog.appspot.com/validation-horse-or-human.zip \\\n",
        "    -O /tmp/validation-horse-or-human.zip"
      ],
      "execution_count": null,
      "outputs": [
        {
          "output_type": "stream",
          "text": [
            "--2021-05-28 01:21:38--  https://storage.googleapis.com/laurencemoroney-blog.appspot.com/horse-or-human.zip\n",
            "Resolving storage.googleapis.com (storage.googleapis.com)... 74.125.142.128, 74.125.195.128, 2607:f8b0:400e:c02::80, ...\n",
            "Connecting to storage.googleapis.com (storage.googleapis.com)|74.125.142.128|:443... connected.\n",
            "HTTP request sent, awaiting response... 200 OK\n",
            "Length: 149574867 (143M) [application/zip]\n",
            "Saving to: ‘/tmp/horse-or-human.zip’\n",
            "\n",
            "/tmp/horse-or-human 100%[===================>] 142.65M  43.9MB/s    in 3.2s    \n",
            "\n",
            "2021-05-28 01:21:42 (43.9 MB/s) - ‘/tmp/horse-or-human.zip’ saved [149574867/149574867]\n",
            "\n",
            "--2021-05-28 01:21:42--  https://storage.googleapis.com/laurencemoroney-blog.appspot.com/validation-horse-or-human.zip\n",
            "Resolving storage.googleapis.com (storage.googleapis.com)... 142.250.107.128, 74.125.135.128, 74.125.142.128, ...\n",
            "Connecting to storage.googleapis.com (storage.googleapis.com)|142.250.107.128|:443... connected.\n",
            "HTTP request sent, awaiting response... 200 OK\n",
            "Length: 11480187 (11M) [application/zip]\n",
            "Saving to: ‘/tmp/validation-horse-or-human.zip’\n",
            "\n",
            "/tmp/validation-hor 100%[===================>]  10.95M  32.9MB/s    in 0.3s    \n",
            "\n",
            "2021-05-28 01:21:42 (32.9 MB/s) - ‘/tmp/validation-horse-or-human.zip’ saved [11480187/11480187]\n",
            "\n"
          ],
          "name": "stdout"
        }
      ]
    },
    {
      "cell_type": "code",
      "metadata": {
        "id": "_0uxp2C7W1V5"
      },
      "source": [
        "\n",
        "import tensorflow as tf\n",
        "import numpy as np \n",
        "import os \n",
        "import zipfile\n",
        "from tensorflow.keras.preprocessing.image import ImageDataGenerator\n"
      ],
      "execution_count": null,
      "outputs": []
    },
    {
      "cell_type": "code",
      "metadata": {
        "id": "ccn2tx7bXItG"
      },
      "source": [
        "local_zip = '/tmp/horse-or-human.zip'\n",
        "zip_ref=  zipfile.ZipFile(local_zip, 'r')\n",
        "zip_ref.extractall('/tmp/horse-or-human')\n",
        "zip_ref.close()\n",
        "\n",
        "\n",
        "local_zip = '/tmp/validation-horse-or-human.zip'\n",
        "zip_ref=  zipfile.ZipFile(local_zip, 'r')\n",
        "zip_ref.extractall('/tmp/validation-horse-or-human')\n",
        "zip_ref.close()"
      ],
      "execution_count": null,
      "outputs": []
    },
    {
      "cell_type": "code",
      "metadata": {
        "id": "PE0XUAKFX9Pm"
      },
      "source": [
        "train_horse = os.path.join('/tmp/horse-or-human/horses')\n",
        "train_human = os.path.join('/tmp/horse-or-human/humans')\n",
        "valid_horse = os.path.join('/tmp/validation-horse-or-human/horses')\n",
        "valid_human = os.path.join('/tmp/validation-horse-or-human/humans')\n",
        "#type = str\n",
        "\n",
        "train_horse_name = os.listdir(train_horse)\n",
        "train_human_name = os.listdir(train_human)\n",
        "valid_horse_name = os.listdir(valid_horse)\n",
        "valid_human_name = os.listdir(valid_human)\n",
        "#type = list"
      ],
      "execution_count": null,
      "outputs": []
    },
    {
      "cell_type": "code",
      "metadata": {
        "colab": {
          "base_uri": "https://localhost:8080/"
        },
        "id": "mkqPMZQ1YfEZ",
        "outputId": "f9cac53b-0558-488b-d199-d1decfb18365"
      },
      "source": [
        "model = tf.keras.Sequential([\n",
        "                             tf.keras.layers.Conv2D(16,(3,3),activation='relu',input_shape=(300,300,3)),\n",
        "                             tf.keras.layers.MaxPool2D(2,2),\n",
        "                             tf.keras.layers.BatchNormalization(),\n",
        "                            # tf.keras.layers.Dropout(0.2),\n",
        "                             tf.keras.layers.Conv2D(32,(3,3),activation='relu'),\n",
        "                             tf.keras.layers.MaxPool2D(2,2),\n",
        "                             tf.keras.layers.BatchNormalization(),\n",
        "                            # tf.keras.layers.Dropout(0.2),\n",
        "                             tf.keras.layers.Conv2D(64,(3,3),activation='relu'),\n",
        "                             tf.keras.layers.MaxPool2D(2,2),\n",
        "                             tf.keras.layers.BatchNormalization(),\n",
        "                             #tf.keras.layers.Dropout(0.2),\n",
        "                             tf.keras.layers.Conv2D(64,(3,3),activation='relu'),\n",
        "                             tf.keras.layers.MaxPool2D(2,2),\n",
        "                             tf.keras.layers.BatchNormalization(),\n",
        "                             #tf.keras.layers.Dropout(0.2),\n",
        "                             tf.keras.layers.Conv2D(64,(3,3),activation='relu'),\n",
        "                             tf.keras.layers.MaxPool2D(2,2),\n",
        "                             #tf.keras.layers.Dropout(0.2),\n",
        "                             tf.keras.layers.Flatten(),\n",
        "                             tf.keras.layers.Dense(512,activation='relu'),\n",
        "                             tf.keras.layers.Dense(2,activation='softmax')])\n",
        "model.summary()\n"
      ],
      "execution_count": null,
      "outputs": [
        {
          "output_type": "stream",
          "text": [
            "Model: \"sequential_5\"\n",
            "_________________________________________________________________\n",
            "Layer (type)                 Output Shape              Param #   \n",
            "=================================================================\n",
            "conv2d_25 (Conv2D)           (None, 298, 298, 16)      448       \n",
            "_________________________________________________________________\n",
            "max_pooling2d_25 (MaxPooling (None, 149, 149, 16)      0         \n",
            "_________________________________________________________________\n",
            "batch_normalization_7 (Batch (None, 149, 149, 16)      64        \n",
            "_________________________________________________________________\n",
            "conv2d_26 (Conv2D)           (None, 147, 147, 32)      4640      \n",
            "_________________________________________________________________\n",
            "max_pooling2d_26 (MaxPooling (None, 73, 73, 32)        0         \n",
            "_________________________________________________________________\n",
            "batch_normalization_8 (Batch (None, 73, 73, 32)        128       \n",
            "_________________________________________________________________\n",
            "conv2d_27 (Conv2D)           (None, 71, 71, 64)        18496     \n",
            "_________________________________________________________________\n",
            "max_pooling2d_27 (MaxPooling (None, 35, 35, 64)        0         \n",
            "_________________________________________________________________\n",
            "batch_normalization_9 (Batch (None, 35, 35, 64)        256       \n",
            "_________________________________________________________________\n",
            "conv2d_28 (Conv2D)           (None, 33, 33, 64)        36928     \n",
            "_________________________________________________________________\n",
            "max_pooling2d_28 (MaxPooling (None, 16, 16, 64)        0         \n",
            "_________________________________________________________________\n",
            "batch_normalization_10 (Batc (None, 16, 16, 64)        256       \n",
            "_________________________________________________________________\n",
            "conv2d_29 (Conv2D)           (None, 14, 14, 64)        36928     \n",
            "_________________________________________________________________\n",
            "max_pooling2d_29 (MaxPooling (None, 7, 7, 64)          0         \n",
            "_________________________________________________________________\n",
            "flatten_5 (Flatten)          (None, 3136)              0         \n",
            "_________________________________________________________________\n",
            "dense_10 (Dense)             (None, 512)               1606144   \n",
            "_________________________________________________________________\n",
            "dense_11 (Dense)             (None, 2)                 1026      \n",
            "=================================================================\n",
            "Total params: 1,705,314\n",
            "Trainable params: 1,704,962\n",
            "Non-trainable params: 352\n",
            "_________________________________________________________________\n"
          ],
          "name": "stdout"
        }
      ]
    },
    {
      "cell_type": "code",
      "metadata": {
        "id": "TqmLj1OcgMUL",
        "colab": {
          "base_uri": "https://localhost:8080/"
        },
        "outputId": "854b9a76-9723-42e5-afa8-ebf8c95fb3ea"
      },
      "source": [
        "from tensorflow.keras.optimizers import RMSprop\n",
        "\n",
        "model.compile(optimizer=RMSprop(lr=0.001),loss='sparse_categorical_crossentropy',metrics=['accuracy'])"
      ],
      "execution_count": null,
      "outputs": [
        {
          "output_type": "stream",
          "text": [
            "/usr/local/lib/python3.7/dist-packages/tensorflow/python/keras/optimizer_v2/optimizer_v2.py:375: UserWarning: The `lr` argument is deprecated, use `learning_rate` instead.\n",
            "  \"The `lr` argument is deprecated, use `learning_rate` instead.\")\n"
          ],
          "name": "stderr"
        }
      ]
    },
    {
      "cell_type": "code",
      "metadata": {
        "colab": {
          "base_uri": "https://localhost:8080/"
        },
        "id": "SA6mPqE_Uihs",
        "outputId": "a621a23f-ec2d-449d-d6e3-c5ab24862659"
      },
      "source": [
        "train_datagen = ImageDataGenerator(rescale=1/255)\n",
        "valid_datagen = ImageDataGenerator(rescale=1/255)\n",
        "\n",
        "train_generator = train_datagen.flow_from_directory('/tmp/horse-or-human/',target_size=(300,300),batch_size=128,class_mode='binary')\n",
        "valid_generator = valid_datagen.flow_from_directory('/tmp/validation-horse-or-human/',target_size=(300,300),batch_size=32,class_mode='binary')\n"
      ],
      "execution_count": null,
      "outputs": [
        {
          "output_type": "stream",
          "text": [
            "Found 1027 images belonging to 2 classes.\n",
            "Found 256 images belonging to 2 classes.\n"
          ],
          "name": "stdout"
        }
      ]
    },
    {
      "cell_type": "code",
      "metadata": {
        "colab": {
          "base_uri": "https://localhost:8080/"
        },
        "id": "s9ODWGHJa7Hb",
        "outputId": "b4efdac4-d13c-4c03-c5a2-f1e682d044d8"
      },
      "source": [
        "history=model.fit(train_generator,steps_per_epoch=8,epochs=15,verbose=1,validation_data=valid_generator,validation_steps=8)\n"
      ],
      "execution_count": null,
      "outputs": [
        {
          "output_type": "stream",
          "text": [
            "Epoch 1/15\n",
            "8/8 [==============================] - 94s 12s/step - loss: 6.7038 - accuracy: 0.7330 - val_loss: 0.6907 - val_accuracy: 0.5000\n",
            "Epoch 2/15\n",
            "8/8 [==============================] - 87s 11s/step - loss: 0.9301 - accuracy: 0.8209 - val_loss: 0.6708 - val_accuracy: 0.5000\n",
            "Epoch 3/15\n",
            "8/8 [==============================] - 87s 12s/step - loss: 0.0297 - accuracy: 0.9900 - val_loss: 0.6733 - val_accuracy: 0.5234\n",
            "Epoch 4/15\n",
            "8/8 [==============================] - 87s 11s/step - loss: 0.0073 - accuracy: 1.0000 - val_loss: 0.6777 - val_accuracy: 0.5000\n",
            "Epoch 5/15\n",
            "8/8 [==============================] - 86s 11s/step - loss: 0.0033 - accuracy: 1.0000 - val_loss: 0.6777 - val_accuracy: 0.5117\n",
            "Epoch 6/15\n",
            "8/8 [==============================] - 87s 11s/step - loss: 0.0019 - accuracy: 1.0000 - val_loss: 0.6792 - val_accuracy: 0.5000\n",
            "Epoch 7/15\n",
            "8/8 [==============================] - 99s 12s/step - loss: 0.2774 - accuracy: 0.9477 - val_loss: 1.2071 - val_accuracy: 0.5000\n",
            "Epoch 8/15\n",
            "8/8 [==============================] - 92s 11s/step - loss: 1.7936 - accuracy: 0.8576 - val_loss: 0.7010 - val_accuracy: 0.5000\n",
            "Epoch 9/15\n",
            "8/8 [==============================] - 93s 12s/step - loss: 0.0065 - accuracy: 1.0000 - val_loss: 0.7028 - val_accuracy: 0.5000\n",
            "Epoch 10/15\n",
            "8/8 [==============================] - 93s 12s/step - loss: 0.3145 - accuracy: 0.9277 - val_loss: 0.6951 - val_accuracy: 0.4258\n",
            "Epoch 11/15\n",
            "8/8 [==============================] - 89s 11s/step - loss: 0.0023 - accuracy: 1.0000 - val_loss: 0.6945 - val_accuracy: 0.5156\n",
            "Epoch 12/15\n",
            "8/8 [==============================] - 99s 12s/step - loss: 9.3189e-04 - accuracy: 1.0000 - val_loss: 0.7586 - val_accuracy: 0.5000\n",
            "Epoch 13/15\n",
            "8/8 [==============================] - 90s 11s/step - loss: 6.7730e-04 - accuracy: 1.0000 - val_loss: 0.7178 - val_accuracy: 0.5000\n",
            "Epoch 14/15\n",
            "8/8 [==============================] - 90s 11s/step - loss: 1.7743e-04 - accuracy: 1.0000 - val_loss: 0.7204 - val_accuracy: 0.5000\n",
            "Epoch 15/15\n",
            "8/8 [==============================] - 90s 11s/step - loss: 1.2905e-04 - accuracy: 1.0000 - val_loss: 0.7219 - val_accuracy: 0.5000\n"
          ],
          "name": "stdout"
        }
      ]
    },
    {
      "cell_type": "code",
      "metadata": {
        "colab": {
          "base_uri": "https://localhost:8080/",
          "height": 544
        },
        "id": "NFsa-Z4gKwfn",
        "outputId": "87611e24-e8eb-4571-8a2b-4527ef2990e0"
      },
      "source": [
        "import matplotlib.pyplot as plt\n",
        "\n",
        "\n",
        "def plot_graphs(history, string):\n",
        "  plt.plot(history.history[string])\n",
        "  plt.plot(history.history['val_'+string])\n",
        "  plt.xlabel(\"Epochs\")\n",
        "  plt.ylabel(string)\n",
        "  plt.legend([string, 'val_'+string])\n",
        "  plt.show()\n",
        "\n",
        "plot_graphs(history, 'accuracy')\n",
        "plot_graphs(history, 'loss')"
      ],
      "execution_count": null,
      "outputs": [
        {
          "output_type": "display_data",
          "data": {
            "image/png": "[encoded data removed]",
            "text/plain": [
              "<Figure size 432x288 with 1 Axes>"
            ]
          },
          "metadata": {
            "tags": [],
            "needs_background": "light"
          }
        },
        {
          "output_type": "display_data",
          "data": {
            "image/png": "[encoded data removed]",
            "text/plain": [
              "<Figure size 432x288 with 1 Axes>"
            ]
          },
          "metadata": {
            "tags": [],
            "needs_background": "light"
          }
        }
      ]
    },
    {
      "cell_type": "code",
      "metadata": {
        "id": "dkSxypxrhV5m",
        "colab": {
          "base_uri": "https://localhost:8080/",
          "height": 541
        },
        "outputId": "49d70882-e739-4fe1-ae73-e7ef64146bb8"
      },
      "source": [
        "import matplotlib.pyplot as plt\n",
        "\n",
        "\n",
        "def plot_graphs(history, string):\n",
        "  plt.plot(history.history[string])\n",
        "  plt.plot(history.history['val_'+string])\n",
        "  plt.xlabel(\"Epochs\")\n",
        "  plt.ylabel(string)\n",
        "  plt.legend([string, 'val_'+string])\n",
        "  plt.show()\n",
        "\n",
        "plot_graphs(history, 'accuracy')\n",
        "plot_graphs(history, 'loss')"
      ],
      "execution_count": null,
      "outputs": [
        {
          "output_type": "display_data",
          "data": {
            "image/png": "[encoded data removed]",
            "text/plain": [
              "<Figure size 432x288 with 1 Axes>"
            ]
          },
          "metadata": {
            "tags": [],
            "needs_background": "light"
          }
        },
        {
          "output_type": "display_data",
          "data": {
            "image/png": "[encoded data removed]",
            "text/plain": [
              "<Figure size 432x288 with 1 Axes>"
            ]
          },
          "metadata": {
            "tags": [],
            "needs_background": "light"
          }
        }
      ]
    }
  ]
}