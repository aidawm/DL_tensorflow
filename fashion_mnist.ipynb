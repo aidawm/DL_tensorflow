{
  "nbformat": 4,
  "nbformat_minor": 0,
  "metadata": {
    "colab": {
      "name": "fashion_mnist.ipynb",
      "provenance": [],
      "authorship_tag": "ABX9TyM52FXiwsryjzRY+VMECtoJ",
      "include_colab_link": true
    },
    "kernelspec": {
      "name": "python3",
      "display_name": "Python 3"
    },
    "language_info": {
      "name": "python"
    }
  },
  "cells": [
    {
      "cell_type": "markdown",
      "metadata": {
        "id": "view-in-github",
        "colab_type": "text"
      },
      "source": [
        "<a href=\"https://colab.research.google.com/github/aidawm/new_repo/blob/main/fashion_mnist.ipynb\" target=\"_parent\"><img src=\"https://colab.research.google.com/assets/colab-badge.svg\" alt=\"Open In Colab\"/></a>"
      ]
    },
    {
      "cell_type": "code",
      "metadata": {
        "colab": {
          "base_uri": "https://localhost:8080/"
        },
        "id": "JXDdK8kx9SiF",
        "outputId": "e99b8a1a-95e9-48f1-d1eb-3248304565bd"
      },
      "source": [
        "import tensorflow as tf\n",
        "import tensorflow.keras.datasets.fashion_mnist as mnist \n",
        "\n",
        "class mycallback(tf.keras.callbacks.Callback):\n",
        "  def on_end_epoch(self,epoch,logs={}):\n",
        "    if(logs.get('accuracy')>0.8):\n",
        "      print('Hoora!!')\n",
        "      self.model.stop_training =True\n",
        "\n",
        "(x_train , y_train),(x_test ,y_test)=mnist.load_data()\n",
        "\n",
        "x_train , x_test = x_train/255. ,x_test/255.\n",
        "\n",
        "callback = mycallback()\n",
        "\n",
        "model = tf.keras.Sequential([tf.keras.layers.Flatten(input_shape=(28,28)),\n",
        "                             tf.keras.layers.Dense(512,activation='relu'),\n",
        "                             tf.keras.layers.Dense(10,activation='softmax')])\n",
        "\n",
        "model.compile(optimizer=tf.keras.optimizers.Adam() , loss='sparse_categorical_crossentropy' ,metrics=['accuracy'])\n",
        "\n",
        "model.fit(x_train , y_train, epochs=10 , verbose=1 , callbacks=[callback])"
      ],
      "execution_count": null,
      "outputs": [
        {
          "output_type": "stream",
          "text": [
            "Epoch 1/10\n",
            "1875/1875 [==============================] - 9s 4ms/step - loss: 0.5814 - accuracy: 0.7955\n",
            "Epoch 2/10\n",
            "1875/1875 [==============================] - 8s 4ms/step - loss: 0.3659 - accuracy: 0.8661\n",
            "Epoch 3/10\n",
            "1875/1875 [==============================] - 8s 4ms/step - loss: 0.3198 - accuracy: 0.8825\n",
            "Epoch 4/10\n",
            "1875/1875 [==============================] - 8s 4ms/step - loss: 0.2986 - accuracy: 0.8894\n",
            "Epoch 5/10\n",
            "1875/1875 [==============================] - 8s 4ms/step - loss: 0.2786 - accuracy: 0.8964\n",
            "Epoch 6/10\n",
            "1875/1875 [==============================] - 8s 4ms/step - loss: 0.2636 - accuracy: 0.9000\n",
            "Epoch 7/10\n",
            "1875/1875 [==============================] - 8s 4ms/step - loss: 0.2506 - accuracy: 0.9060\n",
            "Epoch 8/10\n",
            "1875/1875 [==============================] - 8s 4ms/step - loss: 0.2396 - accuracy: 0.9089\n",
            "Epoch 9/10\n",
            "1875/1875 [==============================] - 8s 4ms/step - loss: 0.2352 - accuracy: 0.9098\n",
            "Epoch 10/10\n",
            "1875/1875 [==============================] - 8s 5ms/step - loss: 0.2189 - accuracy: 0.9183\n"
          ],
          "name": "stdout"
        },
        {
          "output_type": "execute_result",
          "data": {
            "text/plain": [
              "<tensorflow.python.keras.callbacks.History at 0x7fb44d9ab790>"
            ]
          },
          "metadata": {
            "tags": []
          },
          "execution_count": 11
        }
      ]
    },
    {
      "cell_type": "code",
      "metadata": {
        "id": "ymQqQIHIBmRR"
      },
      "source": [
        ""
      ],
      "execution_count": null,
      "outputs": []
    }
  ]
}